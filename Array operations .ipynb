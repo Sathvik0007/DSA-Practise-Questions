{
 "cells": [
  {
   "cell_type": "code",
   "execution_count": 4,
   "id": "64f553c4-6d4f-4015-bdd3-2f25793a67b0",
   "metadata": {},
   "outputs": [],
   "source": [
    "# Numpy library\n",
    "import numpy as py"
   ]
  },
  {
   "cell_type": "code",
   "execution_count": 8,
   "id": "3ec6d76e-2922-4e67-ab47-3b8f78ef4a06",
   "metadata": {},
   "outputs": [
    {
     "name": "stdout",
     "output_type": "stream",
     "text": [
      "10 20 30 40 50 "
     ]
    }
   ],
   "source": [
    "y= py.array([10,20,30,40,50])\n",
    "for i in y:\n",
    "    print(i,end=\" \")\n",
    "    "
   ]
  },
  {
   "cell_type": "code",
   "execution_count": 40,
   "id": "2dcc0cf5-8e16-40f9-9b79-60bd9b061c3a",
   "metadata": {
    "scrolled": true
   },
   "outputs": [
    {
     "name": "stdout",
     "output_type": "stream",
     "text": [
      "10\n",
      "20\n",
      "30\n",
      "40\n"
     ]
    }
   ],
   "source": [
    "# Accessing elements using numpy library\n",
    "y= np.array([10,20,30,40,50,])\n",
    "print(y[0]) #acessing the elements\n",
    "print(y[1])\n",
    "print(y[2])\n",
    "print(y[3])"
   ]
  },
  {
   "cell_type": "code",
   "execution_count": 11,
   "id": "b42daa8d-30f2-491c-b1ea-b156f9b30846",
   "metadata": {},
   "outputs": [
    {
     "name": "stdout",
     "output_type": "stream",
     "text": [
      "[10 20 80 30 40 50]\n"
     ]
    }
   ],
   "source": [
    "# Insert operation\n",
    "import numpy as py\n",
    "y= np.array([10,20,30,40,50,])\n",
    "z=np.insert(y,2,80)    #(variable name,indexposition, element)\n",
    "print(z)"
   ]
  },
  {
   "cell_type": "code",
   "execution_count": 10,
   "id": "53ec0ca7-915e-41b2-aef8-b99bbb92653a",
   "metadata": {},
   "outputs": [
    {
     "name": "stdout",
     "output_type": "stream",
     "text": [
      "array('i', [10, 20, 30, 50])\n"
     ]
    }
   ],
   "source": [
    "# Remove operation\n",
    "import array as arr\n",
    "x=arr.array('i',[10,20,30,40,50])\n",
    "x.remove(40) # Remove operation\n",
    "print(x)"
   ]
  },
  {
   "cell_type": "code",
   "execution_count": 14,
   "id": "71043d3c-86be-4b2c-af43-2dec161854e8",
   "metadata": {},
   "outputs": [
    {
     "name": "stdout",
     "output_type": "stream",
     "text": [
      "1\n"
     ]
    }
   ],
   "source": [
    "# Search operation\n",
    "import array as arr\n",
    "x=arr.array('i',[10,20,30,40,50])\n",
    "print(x.index(20)) # Search operation"
   ]
  },
  {
   "cell_type": "code",
   "execution_count": 16,
   "id": "8c73cf24-2c29-450a-aa6f-a95f22fb22bf",
   "metadata": {},
   "outputs": [
    {
     "name": "stdout",
     "output_type": "stream",
     "text": [
      "array('i', [100, 20, 30, 40, 50])\n"
     ]
    }
   ],
   "source": [
    " # Update Operation\n",
    "import array as arr\n",
    "x=arr.array('i',[10,20,30,40,50])\n",
    "x[0]=100 # Update Operation\n",
    "print(x)"
   ]
  },
  {
   "cell_type": "code",
   "execution_count": 20,
   "id": "eecf8e0e-a22e-43fb-a90f-eb0ba30c6e5f",
   "metadata": {},
   "outputs": [
    {
     "name": "stdout",
     "output_type": "stream",
     "text": [
      "(10, 60)\n"
     ]
    }
   ],
   "source": [
    "# Finding the largest and Smallest element in the Array\n",
    "import numpy as np\n",
    "x=np.array([10,20,30,40,50,60])\n",
    "def min_max(x):\n",
    "    min_e=np.min(x)\n",
    "    max_e=np.max(x)\n",
    "    return min_e,max_e\n",
    "result = min_max(x)\n",
    "print(result)\n"
   ]
  },
  {
   "cell_type": "code",
   "execution_count": 22,
   "id": "864da1f0-fcd4-47fc-b80d-721a95e26695",
   "metadata": {},
   "outputs": [
    {
     "name": "stdout",
     "output_type": "stream",
     "text": [
      "30.0\n"
     ]
    }
   ],
   "source": [
    "# Find the sum and average of an Array element \n",
    "import numpy as np\n",
    "x= np.array([10,20,30,40,50])\n",
    "def avg(x):\n",
    "    l=len(x)\n",
    "    add_all=sum(x)\n",
    "    average=add_all/l\n",
    "    return average\n",
    "\n",
    "result=avg(x)\n",
    "print(result)"
   ]
  },
  {
   "cell_type": "code",
   "execution_count": 38,
   "id": "d67c23a9-8ccc-47e5-88bc-96c9646fa36d",
   "metadata": {},
   "outputs": [
    {
     "name": "stdout",
     "output_type": "stream",
     "text": [
      "[10 20 30 40 50]\n"
     ]
    }
   ],
   "source": [
    "# Write a function to remove the Duplicate in an Array\n",
    "# Looping and Membership\n",
    "import numpy as np\n",
    "x= np.array([10,20,30,40,50,20])\n",
    "def r_dup(x):\n",
    "    new_arr=[]\n",
    "    for i in x:\n",
    "        if i not in new_arr:\n",
    "            new_arr.append(i)\n",
    "    return np.array(new_arr)    \n",
    "    \n",
    "result=r_dup(x)\n",
    "type(result)\n",
    "print(result)"
   ]
  },
  {
   "cell_type": "code",
   "execution_count": 10,
   "id": "9d305c08-7bdd-42fc-8127-fb8a05481e97",
   "metadata": {},
   "outputs": [
    {
     "name": "stdout",
     "output_type": "stream",
     "text": [
      "[  0  10  20  30  40  50 100]\n"
     ]
    }
   ],
   "source": [
    "# Removing Duplicate Elementa in Array\n",
    "import numpy as np\n",
    "\n",
    "x = np.array([10, 20, 30, 40, 50, 10, 0, 30, 100])\n",
    "\n",
    "def r_dup(x):\n",
    "    return np.unique(x)  # More efficient and preserves NumPy array properties\n",
    "\n",
    "result = r_dup(x)\n",
    "print(result)\n"
   ]
  },
  {
   "cell_type": "code",
   "execution_count": 4,
   "id": "e7900e8b-51f8-498e-b53e-858bf4acbe73",
   "metadata": {},
   "outputs": [
    {
     "name": "stdout",
     "output_type": "stream",
     "text": [
      "[100  30   0  10  50  40  30  20  10]\n"
     ]
    }
   ],
   "source": [
    "# Reversing an Array\n",
    "import numpy as np\n",
    "\n",
    "x = np.array([10, 20, 30, 40, 50, 10, 0, 30, 100])\n",
    "print(x[::-1]) # Slicing Method\n"
   ]
  },
  {
   "cell_type": "code",
   "execution_count": 30,
   "id": "9912cefe-8402-4534-b5fb-a1643ea09312",
   "metadata": {},
   "outputs": [
    {
     "name": "stdin",
     "output_type": "stream",
     "text": [
      " 20\n"
     ]
    },
    {
     "name": "stdout",
     "output_type": "stream",
     "text": [
      "Aladsu 1\n"
     ]
    }
   ],
   "source": [
    "# Find the index of an Element using Exception\n",
    "\n",
    "import numpy as np\n",
    "\n",
    "x = np.array([10, 20, 30, 40, 50])\n",
    "def i_ele(x,s_ele):\n",
    "    try:\n",
    "        n=len(x)\n",
    "        for i in range(n):\n",
    "            if x[i]== s_ele:\n",
    "                return i\n",
    "        raise ValueError(\"Element not found\")\n",
    "    except ValueError:\n",
    "        return -1\n",
    "s_ele=int(input())\n",
    "result = i_ele(x,s_ele)\n",
    "print(\"Aladsu\",result)\n"
   ]
  },
  {
   "cell_type": "code",
   "execution_count": 46,
   "id": "a42da5a2-1d95-4222-8da7-83a579e66559",
   "metadata": {},
   "outputs": [
    {
     "name": "stdout",
     "output_type": "stream",
     "text": [
      "Product array  [120, 60, 40, 30, 24]\n"
     ]
    }
   ],
   "source": [
    "# Array special prouct without division \n",
    "import numpy as np\n",
    "\n",
    "x = np.array([1, 2, 3, 4, 5])\n",
    "def pro_ExceptSelf(x):\n",
    "    n=len(x)\n",
    "    res=[1]*n\n",
    "    for i in range(n):\n",
    "        for j in range(n):\n",
    "            if i !=j:\n",
    "                res[i]*=x[j]\n",
    "    return res\n",
    "result = pro_ExceptSelf(x)\n",
    "print(\"Product array \",result)"
   ]
  },
  {
   "cell_type": "code",
   "execution_count": 56,
   "id": "e2fb9a71-90e2-4c5d-a964-21c258b909ee",
   "metadata": {},
   "outputs": [
    {
     "name": "stdout",
     "output_type": "stream",
     "text": [
      "Original array:  [1 2 3 4 5]\n",
      "Product array:  [120, 60, 40, 30, 24]\n"
     ]
    }
   ],
   "source": [
    "# Array special prouct without division \n",
    "import numpy as np\n",
    "import math\n",
    "\n",
    "x = np.array([1, 2, 3, 4, 5])\n",
    "def pro_ExceptSelf_div(x):\n",
    "    total_product=math.prod(x)\n",
    "    prod_arr =[]\n",
    "    for i in x:\n",
    "        prod_arr.append(total_product//i)\n",
    "    return prod_arr\n",
    "print(\"Original array: \",x)\n",
    "result=pro_ExceptSelf_div(x)\n",
    "print(\"Product array: \",result)      "
   ]
  },
  {
   "cell_type": "code",
   "execution_count": 2,
   "id": "05e92334-05f9-4b82-9a6a-f071fcb202f3",
   "metadata": {},
   "outputs": [
    {
     "name": "stdout",
     "output_type": "stream",
     "text": [
      "last index of one: 6\n"
     ]
    }
   ],
   "source": [
    "# Last One Occurance \n",
    "import numpy as np\n",
    "x=np.array([0,1,1,0,1,0,1,0,0])\n",
    "def last1_occur(x):\n",
    "    index=-1\n",
    "    n=len(x)\n",
    "    for i in range(n):\n",
    "        if x[i]==1:\n",
    "            index=i\n",
    "    return index\n",
    "print(\"last index of one:\",last1_occur(x))"
   ]
  },
  {
   "cell_type": "code",
   "execution_count": null,
   "id": "78c9f294-c45f-49d3-9d76-063e38a27487",
   "metadata": {},
   "outputs": [],
   "source": [
    "# Move all Zeros to End\n",
    "import numpy as np\n",
    "x=np.array([1,1,1,1,0,0,0])\n",
    "def move_zero_end(x):\n",
    "    count_0=0\n",
    "    store_1=0\n",
    "    for i in x:\n",
    "        if i==1:\n",
    "            store_1+=1\n",
    "        else:\n",
    "            count_0+=1\n",
    "    result =([1]+store_1)+([0]+count_0)\n",
    "    return result\n",
    "print(\"output:\",move_zero_end(x))"
   ]
  },
  {
   "cell_type": "code",
   "execution_count": 7,
   "id": "4a1aebc8-f979-4884-ab93-d8d8ac38dfeb",
   "metadata": {},
   "outputs": [
    {
     "name": "stdout",
     "output_type": "stream",
     "text": [
      "output: [1, 1, 1, 1, 1, 0, 0, 0]\n"
     ]
    }
   ],
   "source": [
    "# Move all Zeros to End\n",
    "import numpy as np\n",
    "x = np.array([0, 1, 0, 1, 0, 1, 1, 1])\n",
    "def Move_Zero_end(x):\n",
    "    Count_0 = 0\n",
    "    Store_1 = 0\n",
    "    i = len(x)-1\n",
    "    while i >= 0:\n",
    "        if x[i] == 1:\n",
    "            Store_1 += 1\n",
    "        else:\n",
    "            Count_0 += 1\n",
    "        i -= 1\n",
    "    result = [1] * Store_1 + [0] * Count_0\n",
    "    return result\n",
    "print(\"output:\", Move_Zero_end(x))"
   ]
  },
  {
   "cell_type": "code",
   "execution_count": 9,
   "id": "71325363-1b64-465b-a886-5247c21d8024",
   "metadata": {},
   "outputs": [
    {
     "name": "stdout",
     "output_type": "stream",
     "text": [
      " Common Elements :  [4 5 6]\n"
     ]
    }
   ],
   "source": [
    "# Binary Array Sorting\n",
    "import numpy as np\n",
    "x = np.array([1,2,3,4,5,6])\n",
    "y= np.array([4,5,6,7,8])\n",
    "def arr_common(x,y):\n",
    "    common=[]\n",
    "    for i in x:\n",
    "        if i in y and i not in common:\n",
    "            common.append(i)\n",
    "    return np.array(common)\n",
    "print(\" Common Elements : \",arr_common(x,y))    \n"
   ]
  },
  {
   "cell_type": "code",
   "execution_count": null,
   "id": "4cef642a-2e06-470d-8973-7f967fc49530",
   "metadata": {},
   "outputs": [],
   "source": []
  }
 ],
 "metadata": {
  "kernelspec": {
   "display_name": "Python 3 (ipykernel)",
   "language": "python",
   "name": "python3"
  },
  "language_info": {
   "codemirror_mode": {
    "name": "ipython",
    "version": 3
   },
   "file_extension": ".py",
   "mimetype": "text/x-python",
   "name": "python",
   "nbconvert_exporter": "python",
   "pygments_lexer": "ipython3",
   "version": "3.12.4"
  }
 },
 "nbformat": 4,
 "nbformat_minor": 5
}
