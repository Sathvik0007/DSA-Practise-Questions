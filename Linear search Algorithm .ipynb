{
 "cells": [
  {
   "cell_type": "code",
   "execution_count": 1,
   "id": "5feb178a-c128-45f3-b273-8868a9e9d291",
   "metadata": {},
   "outputs": [
    {
     "data": {
      "text/plain": [
       "2"
      ]
     },
     "execution_count": 1,
     "metadata": {},
     "output_type": "execute_result"
    }
   ],
   "source": [
    "# Factorial\n",
    "# Recursion\n",
    "def factorial(n):\n",
    "    if n==1:\n",
    "        return 1\n",
    "    else:\n",
    "        return n*factorial(n-1)\n",
    "factorial(2)        "
   ]
  },
  {
   "cell_type": "code",
   "execution_count": 3,
   "id": "d2768304-ddda-4219-95da-03b3bac4e8e0",
   "metadata": {},
   "outputs": [
    {
     "name": "stdout",
     "output_type": "stream",
     "text": [
      "8\n"
     ]
    }
   ],
   "source": [
    "# 2) Fibonacci Series (Recursive)\n",
    "def fibonacci(n):\n",
    "    if n <= 1:\n",
    "        return n  # Base case\n",
    "    return fibonacci(n - 1) + fibonacci(n - 2)  # Recursive calls\n",
    "\n",
    "print(fibonacci(6))  # Output: 8\n"
   ]
  },
  {
   "cell_type": "code",
   "execution_count": 7,
   "id": "818a9b8a-3cfd-4030-a9d2-2bb7c2572c29",
   "metadata": {},
   "outputs": [
    {
     "name": "stdin",
     "output_type": "stream",
     "text": [
      "Enter an element:  1\n"
     ]
    },
    {
     "name": "stdout",
     "output_type": "stream",
     "text": [
      "Element Not Found\n"
     ]
    }
   ],
   "source": [
    "# Linear search Algorithm\n",
    "arr = [11, 22, 33, 44, 55, 66]\n",
    "\n",
    "element = int(input(\"Enter an element: \"))  # Convert input to an integer\n",
    "\n",
    "if element in arr:\n",
    "    print(\"Index Position is:\", arr.index(element))\n",
    "else:\n",
    "    print(\"Element Not Found\")\n"
   ]
  },
  {
   "cell_type": "code",
   "execution_count": 5,
   "id": "15bb153a-843a-4dd6-95a6-0bc587d99b0e",
   "metadata": {},
   "outputs": [
    {
     "name": "stdin",
     "output_type": "stream",
     "text": [
      "Enter an element:  1\n"
     ]
    },
    {
     "name": "stdout",
     "output_type": "stream",
     "text": [
      "Element Not Found\n"
     ]
    }
   ],
   "source": [
    "# Linear search Algorithm\n",
    "arr = [11, 22, 33, 44, 55, 66]\n",
    "\n",
    "element = int(input(\"Enter an element: \"))  # Convert input to an integer\n",
    "found = False  # Flag to track if the element is found\n",
    "\n",
    "for i in range(len(arr)):  \n",
    "    if arr[i] == element:  \n",
    "        print(\"Index Position is:\", i)  \n",
    "        found = True  \n",
    "        break  # Exit the loop once the element is found\n",
    "\n",
    "if not found:  \n",
    "    print(\"Element Not Found\")\n"
   ]
  },
  {
   "cell_type": "code",
   "execution_count": 1,
   "id": "d11b5b4c-6a8d-4312-83f5-9495b7caa1b7",
   "metadata": {},
   "outputs": [
    {
     "name": "stdout",
     "output_type": "stream",
     "text": [
      "Element found at index 2\n"
     ]
    }
   ],
   "source": [
    "# Linear search Algorithm using While loop\n",
    "def linear_search(arr, target):\n",
    "    i = 0  # Start index\n",
    "    while i < len(arr):  # Loop until the end of the list\n",
    "        if arr[i] == target:  # Check if element matches the target\n",
    "            return i  # Return the index if found\n",
    "        i += 1  # Move to the next index\n",
    "    return -1  # Return -1 if not found\n",
    "\n",
    "# Example usage\n",
    "arr = [10, 20, 30, 40, 50]\n",
    "target = 30\n",
    "\n",
    "result = linear_search(arr, target)\n",
    "\n",
    "if result != -1:\n",
    "    print(f\"Element found at index {result}\")\n",
    "else:\n",
    "    print(\"Element not found\")\n"
   ]
  },
  {
   "cell_type": "code",
   "execution_count": 4,
   "id": "dda9c9c4-ebb0-4628-92a8-50a2c131703d",
   "metadata": {},
   "outputs": [
    {
     "name": "stdout",
     "output_type": "stream",
     "text": [
      "Element found at index 7\n"
     ]
    }
   ],
   "source": [
    "# Binaray Search \n",
    "def binary_search(arr, target):\n",
    "    low = 0\n",
    "    high = len(arr) - 1\n",
    "\n",
    "    while low <= high:\n",
    "        mid = (low + high) // 2\n",
    "\n",
    "        if arr[mid] == target:\n",
    "            return mid  # Target found at index mid\n",
    "        elif arr[mid] < target:\n",
    "            low = mid + 1  # Search in the right half\n",
    "        else:\n",
    "            high = mid - 1  # Search in the left half\n",
    "\n",
    "    return -1  # Target not found\n",
    "\n",
    "# Example usage\n",
    "arr = [1, 3, 5, 7, 9, 11, 13, 15]  # Sorted list\n",
    "target = 15\n",
    "\n",
    "result = binary_search(arr, target)\n",
    "\n",
    "if result != -1:\n",
    "    print(f\"Element found at index {result}\")\n",
    "else:\n",
    "    print(\"Element not found\")\n"
   ]
  },
  {
   "cell_type": "code",
   "execution_count": 12,
   "id": "8dd526e9-3690-4a11-a549-471cfa2b1d0a",
   "metadata": {},
   "outputs": [
    {
     "name": "stdin",
     "output_type": "stream",
     "text": [
      " 2\n"
     ]
    },
    {
     "name": "stdout",
     "output_type": "stream",
     "text": [
      "Element not found\n"
     ]
    }
   ],
   "source": [
    "# Binaray Search \n",
    "arr = [1, 3, 5, 7, 9, 11, 13, 15]  # Sorted list\n",
    "target = int(input())\n",
    "\n",
    "low = 0\n",
    "high = len(arr) - 1\n",
    "found = -1  # Default value if element is not found\n",
    "\n",
    "while low <= high:\n",
    "    mid = (low + high) // 2\n",
    "    \n",
    "    if arr[mid] == target:\n",
    "        found = mid\n",
    "        break\n",
    "    elif arr[mid] < target:\n",
    "        low = mid + 1\n",
    "    else:\n",
    "        high = mid - 1\n",
    "\n",
    "if found != -1:\n",
    "    print(f\"Element found at index {found}\")\n",
    "else:\n",
    "    print(\"Element not found\")\n"
   ]
  },
  {
   "cell_type": "code",
   "execution_count": 19,
   "id": "2ec9f7b4-cde4-43c6-b579-d93641f8f08b",
   "metadata": {},
   "outputs": [
    {
     "name": "stdout",
     "output_type": "stream",
     "text": [
      "[0, 1, 1, 2, 3, 5, 8, 13, 21, 34]\n"
     ]
    }
   ],
   "source": [
    "# Here is a Python code snippet that generates the Fibonacci sequence:\n",
    "\n",
    "# Iterative Method\n",
    "\n",
    "def fibonacci(n):\n",
    "    fib_sequence = [0, 1]\n",
    "    while len(fib_sequence) < n:\n",
    "        fib_sequence.append(fib_sequence[-1] + fib_sequence[-2])\n",
    "    return fib_sequence\n",
    "\n",
    "n = 10  # Number of terms\n",
    "print(fibonacci(n))"
   ]
  },
  {
   "cell_type": "code",
   "execution_count": 15,
   "id": "df799c90-3940-4ff0-a3e2-552283eac799",
   "metadata": {},
   "outputs": [
    {
     "name": "stdout",
     "output_type": "stream",
     "text": [
      "0\n",
      "1\n",
      "1\n",
      "2\n",
      "3\n",
      "5\n",
      "8\n",
      "13\n",
      "21\n",
      "34\n"
     ]
    }
   ],
   "source": [
    "# Recursive Method\n",
    "\n",
    "def fibonacci(n):\n",
    "    if n <= 0:\n",
    "        return \"Input should be a positive integer\"\n",
    "    elif n == 1:\n",
    "        return 0\n",
    "    elif n == 2:\n",
    "        return 1\n",
    "    else:\n",
    "        return fibonacci(n-1) + fibonacci(n-2)\n",
    "\n",
    "n = 10  # Number of terms\n",
    "for i in range(1, n+1):\n",
    "    print(fibonacci(i))\n"
   ]
  },
  {
   "cell_type": "code",
   "execution_count": 23,
   "id": "a404dbbf-f8af-4a8b-ac76-19f8fb91368c",
   "metadata": {},
   "outputs": [
    {
     "name": "stdout",
     "output_type": "stream",
     "text": [
      "Tower of Hanoi solution:\n",
      "Move disk 1 from rod A to rod C\n",
      "Move disk 2 from rod A to rod B\n",
      "Move disk 1 from rod C to rod B\n",
      "Move disk 3 from rod A to rod C\n",
      "Move disk 1 from rod B to rod A\n",
      "Move disk 2 from rod B to rod C\n",
      "Move disk 1 from rod A to rod C\n"
     ]
    }
   ],
   "source": [
    "# Here is a Python solution for the Tower of Hanoi problem:\n",
    "\n",
    "def tower_of_hanoi(n, source, target, auxiliary):\n",
    "    \"\"\"\n",
    "    Solves the Tower of Hanoi problem.\n",
    "\n",
    "    Args:\n",
    "        n (int): Number of disks.\n",
    "        source (str): Source rod.\n",
    "        target (str): Target rod.\n",
    "        auxiliary (str): Auxiliary rod.\n",
    "    \"\"\"\n",
    "    if n == 1:\n",
    "        # Base case: move a single disk from source to target.\n",
    "        print(f\"Move disk 1 from rod {source} to rod {target}\")\n",
    "        return\n",
    "\n",
    "    # Move n - 1 disks from source to auxiliary, using target as a temporary storage.\n",
    "    tower_of_hanoi(n - 1, source, auxiliary, target)\n",
    "\n",
    "    # Move the nth disk from source to target.\n",
    "    print(f\"Move disk {n} from rod {source} to rod {target}\")\n",
    "\n",
    "    # Move the n - 1 disks from auxiliary to target, using source as a temporary storage.\n",
    "    tower_of_hanoi(n - 1, auxiliary, target, source)\n",
    "\n",
    "# Example usage:\n",
    "n = 3  # Number of disks\n",
    "source = \"A\"  # Source rod\n",
    "target = \"C\"  # Target rod\n",
    "auxiliary = \"B\"  # Auxiliary rod\n",
    "\n",
    "print(\"Tower of Hanoi solution:\")\n",
    "tower_of_hanoi(n, source, target, auxiliary)"
   ]
  },
  {
   "cell_type": "code",
   "execution_count": 25,
   "id": "cacf53f8-594a-4a03-9756-f13d772558db",
   "metadata": {},
   "outputs": [
    {
     "name": "stdout",
     "output_type": "stream",
     "text": [
      "Move disk 1 from A to C\n",
      "Move disk 2 from A to B\n",
      "Move disk 1 from C to B\n",
      "Move disk 3 from A to C\n",
      "Move disk 1 from B to A\n",
      "Move disk 2 from B to C\n",
      "Move disk 1 from A to C\n"
     ]
    }
   ],
   "source": [
    "def tower_of_hanoi(n, source, target, auxiliary):\n",
    "    if n == 1:\n",
    "        print(f\"Move disk 1 from {source} to {target}\")\n",
    "        return\n",
    "    # Move n-1 disks from source to auxiliary using target as a helper\n",
    "    tower_of_hanoi(n - 1, source, auxiliary, target)\n",
    "    # Move the nth (largest) disk to the target rod\n",
    "    print(f\"Move disk {n} from {source} to {target}\")\n",
    "    # Move the n-1 disks from auxiliary to target using source as a helper\n",
    "    tower_of_hanoi(n - 1, auxiliary, target, source)\n",
    "\n",
    "# Example: Solve Tower of Hanoi with 3 disks\n",
    "n = 3\n",
    "tower_of_hanoi(n, 'A', 'C', 'B')\n"
   ]
  },
  {
   "cell_type": "code",
   "execution_count": null,
   "id": "e0b72146-5e06-44b1-abc2-b03c91d83ee8",
   "metadata": {},
   "outputs": [],
   "source": []
  }
 ],
 "metadata": {
  "kernelspec": {
   "display_name": "Python 3 (ipykernel)",
   "language": "python",
   "name": "python3"
  },
  "language_info": {
   "codemirror_mode": {
    "name": "ipython",
    "version": 3
   },
   "file_extension": ".py",
   "mimetype": "text/x-python",
   "name": "python",
   "nbconvert_exporter": "python",
   "pygments_lexer": "ipython3",
   "version": "3.12.4"
  }
 },
 "nbformat": 4,
 "nbformat_minor": 5
}
