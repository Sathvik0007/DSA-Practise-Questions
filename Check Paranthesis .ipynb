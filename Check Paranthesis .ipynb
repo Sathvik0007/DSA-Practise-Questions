{
 "cells": [
  {
   "cell_type": "code",
   "execution_count": 8,
   "id": "3a2aac23-2b89-4bbe-94a7-6fd9c7c76d6a",
   "metadata": {},
   "outputs": [
    {
     "name": "stdin",
     "output_type": "stream",
     "text": [
      "Enter any expression: 1\n"
     ]
    },
    {
     "name": "stdout",
     "output_type": "stream",
     "text": [
      "Expression is well parenthesized\n"
     ]
    }
   ],
   "source": [
    "class StackNode:\n",
    "    def __init__(self, Newdata, link):  # declaration of node structure\n",
    "        self.data = Newdata\n",
    "        self.next = link\n",
    "\n",
    "class Stack:\n",
    "    # create an empty stack\n",
    "    def __init__(self):\n",
    "        self.top = None\n",
    "\n",
    "    def isempty(self):\n",
    "        return self.top is None\n",
    "\n",
    "    def push(self, Newdata):\n",
    "        # push a new element onto the stack\n",
    "        self.top = StackNode(Newdata, self.top)\n",
    "\n",
    "    def pop(self):\n",
    "        if self.isempty():\n",
    "            return None\n",
    "        node = self.top\n",
    "        self.top = self.top.next\n",
    "        return node.data\n",
    "\n",
    "    def peek(self):\n",
    "        if self.isempty():\n",
    "            return None\n",
    "        return self.top.data\n",
    "\n",
    "    def display(self):\n",
    "        currentNode = self.top\n",
    "        print(\"Stack elements:\")\n",
    "        while currentNode is not None:\n",
    "            print(currentNode.data)\n",
    "            currentNode = currentNode.next\n",
    "\n",
    "def check_parenthesis(expr):  # expr - expression\n",
    "    st = Stack()\n",
    "    for ch in expr:\n",
    "        if ch in '({[':\n",
    "            st.push(ch)\n",
    "        elif ch in ')}]':\n",
    "            if st.isempty():\n",
    "                print(\"No matching opening parenthesis\")\n",
    "                return\n",
    "            else:\n",
    "                if getmatch(ch) != st.pop():\n",
    "                    print(\"Improper nesting of parenthesis\")\n",
    "                    return\n",
    "    if not st.isempty():\n",
    "        print(\"No matching closing parenthesis\")\n",
    "    else:\n",
    "        print(\"Expression is well parenthesized\")\n",
    "\n",
    "def getmatch(ch):\n",
    "    if ch == ')':\n",
    "        return '('\n",
    "    elif ch == '}':\n",
    "        return '{'\n",
    "    elif ch == ']':\n",
    "        return '['\n",
    "\n",
    "exp = input(\"Enter any expression:\")\n",
    "check_parenthesis(exp)\n",
    "\n"
   ]
  },
  {
   "cell_type": "code",
   "execution_count": null,
   "id": "451963ee-df38-4bed-be39-f450f06f8026",
   "metadata": {},
   "outputs": [],
   "source": []
  }
 ],
 "metadata": {
  "kernelspec": {
   "display_name": "Python 3 (ipykernel)",
   "language": "python",
   "name": "python3"
  },
  "language_info": {
   "codemirror_mode": {
    "name": "ipython",
    "version": 3
   },
   "file_extension": ".py",
   "mimetype": "text/x-python",
   "name": "python",
   "nbconvert_exporter": "python",
   "pygments_lexer": "ipython3",
   "version": "3.12.4"
  }
 },
 "nbformat": 4,
 "nbformat_minor": 5
}
