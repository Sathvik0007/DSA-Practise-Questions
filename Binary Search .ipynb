{
 "cells": [
  {
   "cell_type": "code",
   "execution_count": 1,
   "id": "d241d5a5-3a97-4612-9363-c522d1d39abc",
   "metadata": {},
   "outputs": [
    {
     "name": "stdout",
     "output_type": "stream",
     "text": [
      "2\n"
     ]
    }
   ],
   "source": [
    "def binary_search(arr, target):\n",
    "    left, right = 0, len(arr) - 1\n",
    "\n",
    "    while left <= right:\n",
    "        mid = (left + right) // 2\n",
    "        if arr[mid] == target:\n",
    "            return mid\n",
    "        elif arr[mid] < target:\n",
    "            left = mid + 1\n",
    "        else:\n",
    "            right = mid - 1\n",
    "\n",
    "    return -1  # Not found\n",
    "\n",
    "arr = [10, 20, 30, 40, 50]\n",
    "target = 30\n",
    "print(binary_search(arr, target))  # Output: 2\n"
   ]
  },
  {
   "cell_type": "code",
   "execution_count": 3,
   "id": "f27c7f13-d1c4-4784-92e4-6f9da057e61f",
   "metadata": {},
   "outputs": [],
   "source": [
    "# Iterative Approach"
   ]
  },
  {
   "cell_type": "code",
   "execution_count": 7,
   "id": "584b07d5-9f2e-40a8-87f1-2ab5683c63b5",
   "metadata": {},
   "outputs": [
    {
     "name": "stdout",
     "output_type": "stream",
     "text": [
      "2\n"
     ]
    }
   ],
   "source": [
    "def binary_search(arr, target):\n",
    "    left, right = 0, len(arr) - 1\n",
    "\n",
    "    while left <= right:\n",
    "        mid = (left + right) // 2\n",
    "        if arr[mid] == target:\n",
    "            return mid\n",
    "        elif arr[mid] < target:\n",
    "            left = mid + 1\n",
    "        else:\n",
    "            right = mid - 1\n",
    "\n",
    "    return -1  # Not found\n",
    "\n",
    "arr = [10, 20, 30, 40, 50]\n",
    "target = 30\n",
    "print(binary_search(arr, target))  # Output: 2\n"
   ]
  },
  {
   "cell_type": "code",
   "execution_count": 9,
   "id": "99a899e6-00fb-453b-901e-aa20ffa2aeed",
   "metadata": {},
   "outputs": [],
   "source": [
    "# Recursive Approach"
   ]
  },
  {
   "cell_type": "code",
   "execution_count": 11,
   "id": "918fbafe-79bc-4f0a-ae7c-022bd5f6372e",
   "metadata": {},
   "outputs": [
    {
     "name": "stdout",
     "output_type": "stream",
     "text": [
      "2\n"
     ]
    }
   ],
   "source": [
    "def binary_search_recursive(arr, left, right, target):\n",
    "    if left > right:\n",
    "        return -1  # Not found\n",
    "\n",
    "    mid = (left + right) // 2\n",
    "    if arr[mid] == target:\n",
    "        return mid\n",
    "    elif arr[mid] < target:\n",
    "        return binary_search_recursive(arr, mid + 1, right, target)\n",
    "    else:\n",
    "        return binary_search_recursive(arr, left, mid - 1, target)\n",
    "\n",
    "arr = [10, 20, 30, 40, 50]\n",
    "target = 30\n",
    "print(binary_search_recursive(arr, 0, len(arr) - 1, target))  # Output: 2\n"
   ]
  },
  {
   "cell_type": "code",
   "execution_count": null,
   "id": "60001040-8b15-45f3-9b0e-e9de7173228e",
   "metadata": {},
   "outputs": [],
   "source": []
  }
 ],
 "metadata": {
  "kernelspec": {
   "display_name": "Python 3 (ipykernel)",
   "language": "python",
   "name": "python3"
  },
  "language_info": {
   "codemirror_mode": {
    "name": "ipython",
    "version": 3
   },
   "file_extension": ".py",
   "mimetype": "text/x-python",
   "name": "python",
   "nbconvert_exporter": "python",
   "pygments_lexer": "ipython3",
   "version": "3.12.4"
  }
 },
 "nbformat": 4,
 "nbformat_minor": 5
}
