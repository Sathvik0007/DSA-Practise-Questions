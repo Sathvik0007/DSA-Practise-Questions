{
 "cells": [
  {
   "cell_type": "code",
   "execution_count": null,
   "id": "66f439ec-0c74-4a79-86d6-b84e6b909e12",
   "metadata": {},
   "outputs": [
    {
     "name": "stdout",
     "output_type": "stream",
     "text": [
      "\n",
      "Program to implement the stack using list\n",
      "1.Push\n",
      "2.Pop\n",
      "3.Peek\n",
      "4.Display\n",
      "5.Exit\n"
     ]
    },
    {
     "name": "stdin",
     "output_type": "stream",
     "text": [
      "Enter your choice :  2\n"
     ]
    },
    {
     "name": "stdout",
     "output_type": "stream",
     "text": [
      "Stack underflow\n",
      "\n",
      "Program to implement the stack using list\n",
      "1.Push\n",
      "2.Pop\n",
      "3.Peek\n",
      "4.Display\n",
      "5.Exit\n"
     ]
    },
    {
     "name": "stdin",
     "output_type": "stream",
     "text": [
      "Enter your choice :  1\n",
      "Enter the data :  2\n"
     ]
    },
    {
     "name": "stdout",
     "output_type": "stream",
     "text": [
      "\n",
      "Program to implement the stack using list\n",
      "1.Push\n",
      "2.Pop\n",
      "3.Peek\n",
      "4.Display\n",
      "5.Exit\n"
     ]
    },
    {
     "name": "stdin",
     "output_type": "stream",
     "text": [
      "Enter your choice :  1\n",
      "Enter the data :  2\n"
     ]
    },
    {
     "name": "stdout",
     "output_type": "stream",
     "text": [
      "\n",
      "Program to implement the stack using list\n",
      "1.Push\n",
      "2.Pop\n",
      "3.Peek\n",
      "4.Display\n",
      "5.Exit\n"
     ]
    },
    {
     "name": "stdin",
     "output_type": "stream",
     "text": [
      "Enter your choice :  1\n",
      "Enter the data :  2\n"
     ]
    },
    {
     "name": "stdout",
     "output_type": "stream",
     "text": [
      "\n",
      "Program to implement the stack using list\n",
      "1.Push\n",
      "2.Pop\n",
      "3.Peek\n",
      "4.Display\n",
      "5.Exit\n"
     ]
    },
    {
     "name": "stdin",
     "output_type": "stream",
     "text": [
      "Enter your choice :  1\n",
      "Enter the data :  2\n"
     ]
    },
    {
     "name": "stdout",
     "output_type": "stream",
     "text": [
      "\n",
      "Program to implement the stack using list\n",
      "1.Push\n",
      "2.Pop\n",
      "3.Peek\n",
      "4.Display\n",
      "5.Exit\n"
     ]
    },
    {
     "name": "stdin",
     "output_type": "stream",
     "text": [
      "Enter your choice :  1\n",
      "Enter the data :  2\n"
     ]
    },
    {
     "name": "stdout",
     "output_type": "stream",
     "text": [
      "\n",
      "Program to implement the stack using list\n",
      "1.Push\n",
      "2.Pop\n",
      "3.Peek\n",
      "4.Display\n",
      "5.Exit\n"
     ]
    },
    {
     "name": "stdin",
     "output_type": "stream",
     "text": [
      "Enter your choice :  1\n",
      "Enter the data :  2\n"
     ]
    },
    {
     "name": "stdout",
     "output_type": "stream",
     "text": [
      "\n",
      "Program to implement the stack using list\n",
      "1.Push\n",
      "2.Pop\n",
      "3.Peek\n",
      "4.Display\n",
      "5.Exit\n"
     ]
    },
    {
     "name": "stdin",
     "output_type": "stream",
     "text": [
      "Enter your choice :  1\n",
      "Enter the data :  2\n"
     ]
    },
    {
     "name": "stdout",
     "output_type": "stream",
     "text": [
      "\n",
      "Program to implement the stack using list\n",
      "1.Push\n",
      "2.Pop\n",
      "3.Peek\n",
      "4.Display\n",
      "5.Exit\n"
     ]
    },
    {
     "name": "stdin",
     "output_type": "stream",
     "text": [
      "Enter your choice :  1\n"
     ]
    }
   ],
   "source": [
    "class Stack:\n",
    "    def __init__(self):\n",
    "        self.items = []\n",
    "\n",
    "    def isempty(self):\n",
    "        return self.items == []\n",
    "\n",
    "    def push(self,item):\n",
    "        return self.items.append(item)\n",
    "\n",
    "    def pop(self):\n",
    "        return self.items.pop()\n",
    "\n",
    "    def peek(self):\n",
    "        return self.items[len(self.items)-1]\n",
    "\n",
    "    def size(self):\n",
    "        return len(self.items)\n",
    "\n",
    "    def display(self):\n",
    "        top = len(self.items)\n",
    "        print()\n",
    "        for i in range(top,-1,-1):\n",
    "            print(self.items[i])\n",
    "\n",
    "s = Stack()\n",
    "while(True):\n",
    "    print(\"\\nProgram to implement the stack using list\")\n",
    "    print(\"1.Push\")\n",
    "    print(\"2.Pop\")\n",
    "    print(\"3.Peek\")\n",
    "    print(\"4.Display\")\n",
    "    print(\"5.Exit\")\n",
    "    choice = int(input(\"Enter your choice : \"))\n",
    "    if choice == 1:\n",
    "        num = int(input(\"Enter the data : \"))\n",
    "        s.push(num)\n",
    "    elif choice == 2:\n",
    "        if s.isempty():\n",
    "            print(\"Stack underflow\")\n",
    "        else:\n",
    "            num = s.pop()\n",
    "            print(\"Popped item = \",num)\n",
    "\n",
    "    elif choice == 3:\n",
    "        if s.isempty():\n",
    "            print(\"Stack underflow\")\n",
    "        else:\n",
    "            num = s.peek()\n",
    "            print(\"Peeked item = \",num)\n",
    "    elif choice == 4:\n",
    "        if s.isempty():\n",
    "            print (\"Stack underflow\") \n",
    "        else:\n",
    "            s.display()\n",
    "    elif choice == 5:\n",
    "        print (\"\\n Quitting......\")\n",
    "        break\n",
    "    else:\n",
    "        print(\"Invalid choice !!!! enter the choice (1-5):\")\n",
    "    "
   ]
  },
  {
   "cell_type": "code",
   "execution_count": null,
   "id": "8e0efc8f-93e6-44e9-ae51-0fe62bc5fed1",
   "metadata": {},
   "outputs": [],
   "source": []
  }
 ],
 "metadata": {
  "kernelspec": {
   "display_name": "Python 3 (ipykernel)",
   "language": "python",
   "name": "python3"
  },
  "language_info": {
   "codemirror_mode": {
    "name": "ipython",
    "version": 3
   },
   "file_extension": ".py",
   "mimetype": "text/x-python",
   "name": "python",
   "nbconvert_exporter": "python",
   "pygments_lexer": "ipython3",
   "version": "3.12.4"
  }
 },
 "nbformat": 4,
 "nbformat_minor": 5
}
