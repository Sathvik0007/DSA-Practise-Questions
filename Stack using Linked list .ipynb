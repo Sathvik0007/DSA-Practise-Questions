{
 "cells": [
  {
   "cell_type": "code",
   "execution_count": null,
   "id": "d241d5a5-3a97-4612-9363-c522d1d39abc",
   "metadata": {},
   "outputs": [
    {
     "name": "stdout",
     "output_type": "stream",
     "text": [
      "\n",
      "Program to implement stack using linked list\n",
      "1. Push\n",
      "2. Pop\n",
      "3. Peek\n",
      "4. Display\n",
      "5. Exit\n",
      "________________________\n"
     ]
    },
    {
     "name": "stdin",
     "output_type": "stream",
     "text": [
      "Enter your choice:  1\n",
      "Enter the data:  1\n"
     ]
    },
    {
     "name": "stdout",
     "output_type": "stream",
     "text": [
      "\n",
      "Program to implement stack using linked list\n",
      "1. Push\n",
      "2. Pop\n",
      "3. Peek\n",
      "4. Display\n",
      "5. Exit\n",
      "________________________\n"
     ]
    },
    {
     "name": "stdin",
     "output_type": "stream",
     "text": [
      "Enter your choice:  1\n",
      "Enter the data:  1\n"
     ]
    },
    {
     "name": "stdout",
     "output_type": "stream",
     "text": [
      "\n",
      "Program to implement stack using linked list\n",
      "1. Push\n",
      "2. Pop\n",
      "3. Peek\n",
      "4. Display\n",
      "5. Exit\n",
      "________________________\n"
     ]
    },
    {
     "name": "stdin",
     "output_type": "stream",
     "text": [
      "Enter your choice:  1\n",
      "Enter the data:  1\n"
     ]
    },
    {
     "name": "stdout",
     "output_type": "stream",
     "text": [
      "\n",
      "Program to implement stack using linked list\n",
      "1. Push\n",
      "2. Pop\n",
      "3. Peek\n",
      "4. Display\n",
      "5. Exit\n",
      "________________________\n"
     ]
    },
    {
     "name": "stdin",
     "output_type": "stream",
     "text": [
      "Enter your choice:  1\n",
      "Enter the data:  1\n"
     ]
    },
    {
     "name": "stdout",
     "output_type": "stream",
     "text": [
      "\n",
      "Program to implement stack using linked list\n",
      "1. Push\n",
      "2. Pop\n",
      "3. Peek\n",
      "4. Display\n",
      "5. Exit\n",
      "________________________\n"
     ]
    }
   ],
   "source": [
    "\n",
    "class StackNode:\n",
    "    def __init__(self, Newdata, link=None):  # Default link to None\n",
    "        self.data = Newdata\n",
    "        self.next = link\n",
    "\n",
    "class Stack:\n",
    "    # Create an empty stack\n",
    "    def __init__(self):\n",
    "        self.top = None\n",
    "\n",
    "    def isempty(self):\n",
    "        return self.top is None\n",
    "\n",
    "    def push(self, Newdata):\n",
    "        # Push a new element onto the stack\n",
    "        self.top = StackNode(Newdata, self.top)\n",
    "\n",
    "    def pop(self):\n",
    "        if self.isempty():\n",
    "            print(\"Stack underflow\")\n",
    "            return None\n",
    "        node = self.top\n",
    "        self.top = self.top.next\n",
    "        return node.data\n",
    "\n",
    "    def peek(self):\n",
    "        if self.isempty():\n",
    "            print(\"Stack underflow\")\n",
    "            return None\n",
    "        return self.top.data\n",
    "\n",
    "    def display(self):\n",
    "        if self.isempty():\n",
    "            print(\"Stack is empty\")\n",
    "            return\n",
    "        curNode = self.top\n",
    "        print(\"\\nStack elements:\")\n",
    "        while curNode is not None:\n",
    "            print(curNode.data)\n",
    "            curNode = curNode.next  # Move to the next node\n",
    "\n",
    "s = Stack()\n",
    "while True:\n",
    "    print(\"\\nProgram to implement stack using linked list\")\n",
    "    print(\"1. Push\")\n",
    "    print(\"2. Pop\")\n",
    "    print(\"3. Peek\")\n",
    "    print(\"4. Display\")\n",
    "    print(\"5. Exit\")\n",
    "    print(\"________________________\")\n",
    "    choice = int(input(\"Enter your choice: \"))\n",
    "\n",
    "    if choice == 1:\n",
    "        num = int(input(\"Enter the data: \"))\n",
    "        s.push(num)\n",
    "    elif choice == 2:\n",
    "        num = s.pop()\n",
    "        if num is not None:\n",
    "            print(\"Popped data:\", num)\n",
    "    elif choice == 3:\n",
    "        num = s.peek()\n",
    "        if num is not None:\n",
    "            print(\"Peeked data:\", num)\n",
    "    elif choice == 4:\n",
    "        s.display()\n",
    "    elif choice == 5:\n",
    "        print(\"Quitting...\")\n",
    "        break\n",
    "    else:\n",
    "        print(\"Invalid choice\")\n"
   ]
  },
  {
   "cell_type": "code",
   "execution_count": null,
   "id": "bc35349d-5b4e-4bc2-8335-594f021b1123",
   "metadata": {},
   "outputs": [],
   "source": []
  }
 ],
 "metadata": {
  "kernelspec": {
   "display_name": "Python 3 (ipykernel)",
   "language": "python",
   "name": "python3"
  },
  "language_info": {
   "codemirror_mode": {
    "name": "ipython",
    "version": 3
   },
   "file_extension": ".py",
   "mimetype": "text/x-python",
   "name": "python",
   "nbconvert_exporter": "python",
   "pygments_lexer": "ipython3",
   "version": "3.12.4"
  }
 },
 "nbformat": 4,
 "nbformat_minor": 5
}
