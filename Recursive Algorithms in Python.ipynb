{
 "cells": [
  {
   "cell_type": "code",
   "execution_count": 2,
   "id": "d241d5a5-3a97-4612-9363-c522d1d39abc",
   "metadata": {},
   "outputs": [],
   "source": [
    "# 1) Factorial (Recursive)"
   ]
  },
  {
   "cell_type": "code",
   "execution_count": 4,
   "id": "4a6bd222-58bb-49fb-a995-e362a6313e05",
   "metadata": {},
   "outputs": [
    {
     "name": "stdout",
     "output_type": "stream",
     "text": [
      "120\n"
     ]
    }
   ],
   "source": [
    "def factorial(n):\n",
    "    if n == 0 or n == 1:\n",
    "        return 1  # Base case\n",
    "    return n * factorial(n - 1)  # Recursive call\n",
    "\n",
    "print(factorial(5))  # Output: 120\n"
   ]
  },
  {
   "cell_type": "code",
   "execution_count": 6,
   "id": "95ab6aa1-3f77-4dfd-871c-f6322bdb6876",
   "metadata": {},
   "outputs": [],
   "source": [
    "#  Iterative Approach"
   ]
  },
  {
   "cell_type": "code",
   "execution_count": 8,
   "id": "e5eb8452-02e2-49a3-ac08-6a1d7dc186bd",
   "metadata": {},
   "outputs": [
    {
     "name": "stdout",
     "output_type": "stream",
     "text": [
      "120\n"
     ]
    }
   ],
   "source": [
    "def factorial_iterative(n):\n",
    "    result = 1\n",
    "    for i in range(1, n + 1):\n",
    "        result *= i  # Multiply each number\n",
    "    return result\n",
    "\n",
    "print(factorial_iterative(5))  # Output: 120\n"
   ]
  },
  {
   "cell_type": "code",
   "execution_count": 10,
   "id": "39013a79-322b-463d-b479-7d5375865281",
   "metadata": {},
   "outputs": [],
   "source": [
    "# Recursive Approach"
   ]
  },
  {
   "cell_type": "code",
   "execution_count": 12,
   "id": "47b0a675-42da-4771-afe7-088deddc0c52",
   "metadata": {},
   "outputs": [
    {
     "name": "stdout",
     "output_type": "stream",
     "text": [
      "120\n"
     ]
    }
   ],
   "source": [
    "def factorial_recursive(n):\n",
    "    if n == 0 or n == 1:  # Base case\n",
    "        return 1\n",
    "    return n * factorial_recursive(n - 1)  # Recursive call\n",
    "\n",
    "print(factorial_recursive(5))  # Output: 120\n"
   ]
  },
  {
   "cell_type": "code",
   "execution_count": 14,
   "id": "097e5ba5-389e-4d02-8f06-d858057cb319",
   "metadata": {},
   "outputs": [],
   "source": [
    "# 2) Fibonacci Series (Recursive)"
   ]
  },
  {
   "cell_type": "code",
   "execution_count": 16,
   "id": "e00369f3-e57b-4482-aa1b-e5287cb352f2",
   "metadata": {},
   "outputs": [
    {
     "name": "stdout",
     "output_type": "stream",
     "text": [
      "8\n"
     ]
    }
   ],
   "source": [
    "def fibonacci(n):\n",
    "    if n <= 1:\n",
    "        return n  # Base case\n",
    "    return fibonacci(n - 1) + fibonacci(n - 2)  # Recursive calls\n",
    "\n",
    "print(fibonacci(6))  # Output: 8\n"
   ]
  },
  {
   "cell_type": "code",
   "execution_count": 18,
   "id": "18bb3b14-bee8-43e3-9574-36fe62c66a60",
   "metadata": {},
   "outputs": [],
   "source": [
    "# Iterative Approach (Using Loop)"
   ]
  },
  {
   "cell_type": "code",
   "execution_count": 20,
   "id": "8906c462-ab89-4c76-8077-69bce722a526",
   "metadata": {},
   "outputs": [
    {
     "name": "stdout",
     "output_type": "stream",
     "text": [
      "8\n"
     ]
    }
   ],
   "source": [
    "def fibonacci_iterative(n):\n",
    "    if n <= 1:\n",
    "        return n\n",
    "    a, b = 0, 1  # First two Fibonacci numbers\n",
    "    for _ in range(2, n + 1):\n",
    "        a, b = b, a + b  # Update values\n",
    "    return b\n",
    "\n",
    "print(fibonacci_iterative(6))  # Output: 8\n"
   ]
  },
  {
   "cell_type": "code",
   "execution_count": 22,
   "id": "1d0baadf-9848-4306-a05c-ff57998afb5b",
   "metadata": {},
   "outputs": [],
   "source": [
    "# Recursive Approach"
   ]
  },
  {
   "cell_type": "code",
   "execution_count": 24,
   "id": "fffb792a-ed9b-436b-a695-4e6dff3f9300",
   "metadata": {},
   "outputs": [
    {
     "name": "stdout",
     "output_type": "stream",
     "text": [
      "8\n"
     ]
    }
   ],
   "source": [
    "def fibonacci_recursive(n):\n",
    "    if n <= 1:  # Base case\n",
    "        return n\n",
    "    return fibonacci_recursive(n - 1) + fibonacci_recursive(n - 2)  # Recursive calls\n",
    "\n",
    "print(fibonacci_recursive(6))  # Output: 8\n"
   ]
  },
  {
   "cell_type": "code",
   "execution_count": 26,
   "id": "46a0f067-fae7-4a18-81a0-6f26bf45bbbc",
   "metadata": {},
   "outputs": [],
   "source": [
    "# 3) Tower of Hanoi (Recursive)"
   ]
  },
  {
   "cell_type": "code",
   "execution_count": 28,
   "id": "86979c3b-2906-4655-bedc-06b879df84ab",
   "metadata": {},
   "outputs": [
    {
     "name": "stdout",
     "output_type": "stream",
     "text": [
      "Move disk 1 from A to C\n",
      "Move disk 2 from A to B\n",
      "Move disk 1 from C to B\n",
      "Move disk 3 from A to C\n",
      "Move disk 1 from B to A\n",
      "Move disk 2 from B to C\n",
      "Move disk 1 from A to C\n"
     ]
    }
   ],
   "source": [
    "def tower_of_hanoi(n, source, target, auxiliary):\n",
    "    if n == 1:\n",
    "        print(f\"Move disk 1 from {source} to {target}\")\n",
    "        return\n",
    "    tower_of_hanoi(n - 1, source, auxiliary, target)\n",
    "    print(f\"Move disk {n} from {source} to {target}\")\n",
    "    tower_of_hanoi(n - 1, auxiliary, target, source)\n",
    "\n",
    "tower_of_hanoi(3, 'A', 'C', 'B')\n"
   ]
  },
  {
   "cell_type": "code",
   "execution_count": null,
   "id": "9f832f1b-1b88-45ce-9ec9-702f49c8ebeb",
   "metadata": {},
   "outputs": [],
   "source": []
  }
 ],
 "metadata": {
  "kernelspec": {
   "display_name": "Python 3 (ipykernel)",
   "language": "python",
   "name": "python3"
  },
  "language_info": {
   "codemirror_mode": {
    "name": "ipython",
    "version": 3
   },
   "file_extension": ".py",
   "mimetype": "text/x-python",
   "name": "python",
   "nbconvert_exporter": "python",
   "pygments_lexer": "ipython3",
   "version": "3.12.4"
  }
 },
 "nbformat": 4,
 "nbformat_minor": 5
}
