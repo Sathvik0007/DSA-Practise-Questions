{
 "cells": [
  {
   "cell_type": "code",
   "execution_count": 2,
   "id": "d241d5a5-3a97-4612-9363-c522d1d39abc",
   "metadata": {},
   "outputs": [
    {
     "name": "stdin",
     "output_type": "stream",
     "text": [
      "Enter number of elements:  1\n",
      "Enter element:  1\n"
     ]
    },
    {
     "name": "stdout",
     "output_type": "stream",
     "text": [
      "Original Array: [1]\n",
      "Sorted Array: [1]\n"
     ]
    }
   ],
   "source": [
    "def merge(arr, left, mid, right):\n",
    "    temp = []\n",
    "    i, j = left, mid + 1\n",
    "    \n",
    "    while i <= mid and j <= right:\n",
    "        temp.append(arr[i] if arr[i] < arr[j] else arr[j])\n",
    "        i, j = (i + 1, j) if arr[i] < arr[j] else (i, j + 1)\n",
    "    \n",
    "    temp.extend(arr[i:mid+1])\n",
    "    temp.extend(arr[j:right+1])\n",
    "    arr[left:right+1] = temp\n",
    "\n",
    "def mergesort(arr, left, right):\n",
    "    if left < right:\n",
    "        mid = (left + right) // 2\n",
    "        mergesort(arr, left, mid)\n",
    "        mergesort(arr, mid + 1, right)\n",
    "        merge(arr, left, mid, right)\n",
    "\n",
    "arr = [int(input(\"Enter element: \")) for _ in range(int(input(\"Enter number of elements: \")))]\n",
    "print(\"Original Array:\", arr)\n",
    "mergesort(arr, 0, len(arr) - 1)\n",
    "print(\"Sorted Array:\", arr)\n"
   ]
  },
  {
   "cell_type": "code",
   "execution_count": null,
   "id": "a359a1bb-97d3-4a9b-a4a1-42cd27dc5b5f",
   "metadata": {},
   "outputs": [],
   "source": []
  }
 ],
 "metadata": {
  "kernelspec": {
   "display_name": "Python 3 (ipykernel)",
   "language": "python",
   "name": "python3"
  },
  "language_info": {
   "codemirror_mode": {
    "name": "ipython",
    "version": 3
   },
   "file_extension": ".py",
   "mimetype": "text/x-python",
   "name": "python",
   "nbconvert_exporter": "python",
   "pygments_lexer": "ipython3",
   "version": "3.12.4"
  }
 },
 "nbformat": 4,
 "nbformat_minor": 5
}
