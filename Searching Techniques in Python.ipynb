{
 "cells": [
  {
   "cell_type": "code",
   "execution_count": 5,
   "id": "a417ab09-3382-4d40-9fbb-7c7f56942581",
   "metadata": {},
   "outputs": [
    {
     "name": "stdout",
     "output_type": "stream",
     "text": [
      "2\n"
     ]
    }
   ],
   "source": [
    "def linear_search(arr, target):\n",
    "    for i in range(len(arr)):\n",
    "        if arr[i] == target:\n",
    "            return i  # Return index if found\n",
    "    return -1  # Return -1 if not found\n",
    "\n",
    "arr = [10, 20, 30, 40, 50]\n",
    "target = 30\n",
    "print(linear_search(arr, target))  # Output: 2\n"
   ]
  },
  {
   "cell_type": "code",
   "execution_count": 8,
   "id": "a8fe2772-e63d-4b31-ae66-5ae0551c7f3d",
   "metadata": {},
   "outputs": [],
   "source": [
    "# Iterative Approach"
   ]
  },
  {
   "cell_type": "code",
   "execution_count": 10,
   "id": "de65846e-b177-4d82-b070-223d37f833ba",
   "metadata": {},
   "outputs": [
    {
     "name": "stdout",
     "output_type": "stream",
     "text": [
      "2\n"
     ]
    }
   ],
   "source": [
    "def linear_search_iterative(arr, target):\n",
    "    for i in range(len(arr)):  # Loop through each element\n",
    "        if arr[i] == target:\n",
    "            return i  # Return index if found\n",
    "    return -1  # Return -1 if not found\n",
    "\n",
    "# Example usage\n",
    "arr = [10, 20, 30, 40, 50]\n",
    "target = 30\n",
    "print(linear_search_iterative(arr, target))  # Output: 2\n"
   ]
  },
  {
   "cell_type": "code",
   "execution_count": 12,
   "id": "3e956b66-55eb-4854-aead-50939bbd4ba5",
   "metadata": {},
   "outputs": [],
   "source": [
    "# Recursive App roach"
   ]
  },
  {
   "cell_type": "code",
   "execution_count": 14,
   "id": "12ed8b62-a060-4aa9-b8b7-c1f8fa054231",
   "metadata": {},
   "outputs": [
    {
     "name": "stdout",
     "output_type": "stream",
     "text": [
      "2\n"
     ]
    }
   ],
   "source": [
    "def linear_search_recursive(arr, target, index=0):\n",
    "    if index >= len(arr):  # Base case: If index reaches the end\n",
    "        return -1\n",
    "    if arr[index] == target:  # If element matches target\n",
    "        return index\n",
    "    return linear_search_recursive(arr, target, index + 1)  # Recursive call\n",
    "\n",
    "# Example usage\n",
    "arr = [10, 20, 30, 40, 50]\n",
    "target = 30\n",
    "print(linear_search_recursive(arr, target))  # Output: 2\n"
   ]
  },
  {
   "cell_type": "code",
   "execution_count": null,
   "id": "ebdee812-00c8-4165-a0c0-7dc01cd86b0c",
   "metadata": {},
   "outputs": [],
   "source": []
  }
 ],
 "metadata": {
  "kernelspec": {
   "display_name": "Python 3 (ipykernel)",
   "language": "python",
   "name": "python3"
  },
  "language_info": {
   "codemirror_mode": {
    "name": "ipython",
    "version": 3
   },
   "file_extension": ".py",
   "mimetype": "text/x-python",
   "name": "python",
   "nbconvert_exporter": "python",
   "pygments_lexer": "ipython3",
   "version": "3.12.4"
  }
 },
 "nbformat": 4,
 "nbformat_minor": 5
}
