{
 "cells": [
  {
   "cell_type": "code",
   "execution_count": 25,
   "id": "1af9daa5-e222-4abd-9ba3-69be3fc47ba6",
   "metadata": {
    "scrolled": true
   },
   "outputs": [
    {
     "data": {
      "text/plain": [
       "7"
      ]
     },
     "execution_count": 25,
     "metadata": {},
     "output_type": "execute_result"
    }
   ],
   "source": [
    "def gcd(m,n):\n",
    "    fm=[]\n",
    "    for i in range (1,m+1):\n",
    "        if (m%i)==0:\n",
    "            fm.append(i)\n",
    "    fn=[]\n",
    "    for j in range(1,n+1)\n",
    "        if(n%j)==0:\n",
    "            fn.append(j)\n",
    "    cf=[]\n",
    "    for k in fm:\n",
    "        if k in fn:\n",
    "            cf.append(k)\n",
    "    return(cf[-1])\n",
    "gcd(14,63)"
   ]
  },
  {
   "cell_type": "code",
   "execution_count": 38,
   "id": "44b07e02-762e-4cd7-910f-4b21d8fcb8ca",
   "metadata": {},
   "outputs": [
    {
     "data": {
      "text/plain": [
       "1"
      ]
     },
     "execution_count": 38,
     "metadata": {},
     "output_type": "execute_result"
    }
   ],
   "source": [
    "def gcd(m,n):\n",
    "    cf=[]\n",
    "    for i in range(1,min(m,n)+1):\n",
    "        if (m%i)==0 and (n%i)==0:\n",
    "            cf.append(i)\n",
    "    return(cf[-1])\n",
    "gcd(18,25)"
   ]
  },
  {
   "cell_type": "code",
   "execution_count": 44,
   "id": "f90e58f0-2f36-453d-8219-cf444d75a20e",
   "metadata": {},
   "outputs": [
    {
     "data": {
      "text/plain": [
       "1"
      ]
     },
     "execution_count": 44,
     "metadata": {},
     "output_type": "execute_result"
    }
   ],
   "source": [
    "def gcd(m,n):\n",
    "    for i in range(1,min(m,n)+1):\n",
    "        if (m%i)==0 and (n%i)==0:\n",
    "            mrcf=1\n",
    "    return(mrcf)\n",
    "gcd(18,25)"
   ]
  },
  {
   "cell_type": "code",
   "execution_count": 8,
   "id": "4d8fad10-01f7-4356-bb18-45cb90bb98dd",
   "metadata": {},
   "outputs": [
    {
     "data": {
      "text/plain": [
       "1"
      ]
     },
     "execution_count": 8,
     "metadata": {},
     "output_type": "execute_result"
    }
   ],
   "source": [
    "def gcd(m,n):\n",
    "    i=min(m,n)\n",
    "    while i>0:\n",
    "        if(m%i)==0 and (n%i)==0:\n",
    "            return(i)\n",
    "        else:\n",
    "            i=i-1\n",
    "gcd(18,25)"
   ]
  },
  {
   "cell_type": "code",
   "execution_count": 18,
   "id": "d00aad6b-320b-4178-af11-3913b4abe79f",
   "metadata": {},
   "outputs": [
    {
     "name": "stdin",
     "output_type": "stream",
     "text": [
      "Enter the number of rows:  3\n",
      "Enter the number of columns:  3\n"
     ]
    },
    {
     "name": "stdout",
     "output_type": "stream",
     "text": [
      "1 2 3 \n",
      "4 5 6 \n",
      "7 8 9 \n"
     ]
    }
   ],
   "source": [
    "m = int(input(\"Enter the number of rows: \"))\n",
    "n = int(input(\"Enter the number of columns: \"))\n",
    "num = 1\n",
    "\n",
    "for i in range(m):\n",
    "    for j in range(n):\n",
    "        print(num, end=\" \")\n",
    "        num += 1\n",
    "    print()  # Move to the next line after finishing one row\n"
   ]
  },
  {
   "cell_type": "code",
   "execution_count": null,
   "id": "ba9df915-79e6-4c2b-a8c8-a9aacd82e432",
   "metadata": {},
   "outputs": [],
   "source": [
    "# write a program to add all the elements in matrix \n",
    "\n",
    "# write a program to add the elements in each row \n",
    "\n",
    "# write a program to add the elements in each column \n",
    "\n"
   ]
  },
  {
   "cell_type": "code",
   "execution_count": 44,
   "id": "c5922121-a759-4c8f-972f-f40c8c3cf05b",
   "metadata": {},
   "outputs": [
    {
     "name": "stdout",
     "output_type": "stream",
     "text": [
      "7.75\n",
      "5.25\n"
     ]
    }
   ],
   "source": [
    "n = 13\n",
    "Low = 1\n",
    "High = 13.0\n",
    "\n",
    "while Low < High:\n",
    "    mid = ((Low + High) / 2)  \n",
    "    \n",
    "    # Convert mid to string, remove decimal, sum the digits\n",
    "    digit_sum = sum(int(digit) for digit in str(mid)if digit.isdigit())  \n",
    "    \n",
    "    diff = abs(mid - digit_sum)\n",
    "    \n",
    "    if diff <= 2:\n",
    "        Low = abs(mid + 1)\n",
    "    else:\n",
    "        High = abs(mid - 1)\n",
    "print(High)\n",
    "print(n - High)"
   ]
  },
  {
   "cell_type": "code",
   "execution_count": 2,
   "id": "eecd20bc-93c2-4a90-b710-a400383be652",
   "metadata": {},
   "outputs": [],
   "source": [
    "from array import*"
   ]
  },
  {
   "cell_type": "code",
   "execution_count": 4,
   "id": "dee6dead-7b6f-4c4d-ab6f-5b359f6d9ec2",
   "metadata": {},
   "outputs": [
    {
     "name": "stdout",
     "output_type": "stream",
     "text": [
      "10\n",
      "20\n",
      "30\n",
      "40\n",
      "50\n"
     ]
    }
   ],
   "source": [
    "array1 =array('i',[10,20,30,40,50])\n",
    "for x in array1:\n",
    "    print(x)"
   ]
  },
  {
   "cell_type": "code",
   "execution_count": 9,
   "id": "dbeb8897-9bf1-4e4d-83c9-98a81ad3ebbf",
   "metadata": {},
   "outputs": [
    {
     "name": "stdout",
     "output_type": "stream",
     "text": [
      "10\n",
      "30\n"
     ]
    }
   ],
   "source": [
    "# Excessing array element\n",
    "\n",
    "from array import*\n",
    "array2=array('i',[10,20,30,40,50])\n",
    "print(array2[0])\n",
    "print(array2[2])\n"
   ]
  },
  {
   "cell_type": "code",
   "execution_count": 11,
   "id": "bdccf4b6-3cb5-43a8-b01a-9f7f1785f7fd",
   "metadata": {},
   "outputs": [
    {
     "name": "stdout",
     "output_type": "stream",
     "text": [
      "10 60 20 30 40 50 "
     ]
    }
   ],
   "source": [
    "# Insertion option\n",
    "\n",
    "from array import*\n",
    "array2=array('i',[10,20,30,40,50])\n",
    "array2.insert(1,60)  # Index position is 1 and value to be added is 60\n",
    "for x in array2:\n",
    "    print(x,end=\" \")"
   ]
  },
  {
   "cell_type": "code",
   "execution_count": 15,
   "id": "dac6f08c-4f0c-4bfa-b7f4-0dde2f9fa5b6",
   "metadata": {},
   "outputs": [
    {
     "name": "stdout",
     "output_type": "stream",
     "text": [
      "20 30 40 50 "
     ]
    }
   ],
   "source": [
    "# Deletion of Array\n",
    "\n",
    "from array import*\n",
    "array2=array('i',[10,20,30,40,50])\n",
    "array2.remove(10)\n",
    "for x in array2:\n",
    "    print(x,end=\" \")\n"
   ]
  },
  {
   "cell_type": "code",
   "execution_count": 21,
   "id": "b91fe3bb-d8b8-456e-a092-9f024fed64e7",
   "metadata": {},
   "outputs": [
    {
     "name": "stdout",
     "output_type": "stream",
     "text": [
      "0\n"
     ]
    }
   ],
   "source": [
    "# Search operation\n",
    "\n",
    "from array import*\n",
    "array2=array('i',[10,20,30,40,50])\n",
    "print(array2.index(10))\n"
   ]
  },
  {
   "cell_type": "code",
   "execution_count": 23,
   "id": "939fbf38-c6c0-4ccd-a1a7-a60a1915801a",
   "metadata": {},
   "outputs": [
    {
     "name": "stdout",
     "output_type": "stream",
     "text": [
      "10\n",
      "20\n",
      "80\n",
      "40\n",
      "50\n"
     ]
    }
   ],
   "source": [
    "# Update Operation\n",
    "\n",
    "from array import*\n",
    "array2=array('i',[10,20,30,40,50])\n",
    "array2[2]=80\n",
    "for x in array2:\n",
    "    print(x)\n"
   ]
  },
  {
   "cell_type": "code",
   "execution_count": 53,
   "id": "a9ead5da-0e61-41f9-9953-5b3157a2df8b",
   "metadata": {},
   "outputs": [
    {
     "name": "stdout",
     "output_type": "stream",
     "text": [
      "[1, 2, 6, 8, 10]\n",
      "Minimum value of A is  1\n",
      " Maximum value of A is  10\n",
      "Length value of A is  5\n",
      "Sum value of A is  27\n",
      " Average of A is  5.4\n",
      " Reverse value of A is  [10, 8, 6, 2, 1]\n"
     ]
    }
   ],
   "source": [
    "# To find the largerst nd Smalest elements in the array\n",
    "from array import*\n",
    "array1=([6,8,1,2,10])\n",
    "a=array1\n",
    "a.sort()\n",
    "print(a)\n",
    "print(\"Minimum value of A is \",min(a))\n",
    "print(\" Maximum value of A is \",max(a))\n",
    "print(\"Length value of A is \",len(a))\n",
    "print(\"Sum value of A is \",sum(a))\n",
    "b=sum(a)/len(a)\n",
    "print(\" Average of A is \",b)\n",
    "c=a[::-1]\n",
    "print(\" Reverse value of A is \",c)"
   ]
  },
  {
   "cell_type": "code",
   "execution_count": null,
   "id": "25f566fc-7088-4d16-a117-4a51c3f70577",
   "metadata": {},
   "outputs": [],
   "source": [
    "import numpy as np\n",
    "y=np.array[10,2030,40,50]\n",
    "p"
   ]
  },
  {
   "cell_type": "code",
   "execution_count": 2,
   "id": "8ee47b6a-9f7a-4240-b33d-e96d3a4a883c",
   "metadata": {},
   "outputs": [
    {
     "name": "stdout",
     "output_type": "stream",
     "text": [
      "last index of one: 6\n"
     ]
    }
   ],
   "source": [
    "# Last One Occurance \n",
    "import numpy as np\n",
    "x=np.array([0,1,1,0,1,0,1,0,0])\n",
    "def last1_occur(x):\n",
    "    index=-1\n",
    "    n=len(x)\n",
    "    for i in range(n):\n",
    "        if x[i]==1:\n",
    "            index=i\n",
    "    return index\n",
    "print(\"last index of one:\",last1_occur(x))"
   ]
  },
  {
   "cell_type": "code",
   "execution_count": null,
   "id": "c23b46a3-4384-4749-aabe-a05a1b6850f8",
   "metadata": {},
   "outputs": [],
   "source": [
    "# Move all Zeros to End\n",
    "import numpy as np\n",
    "x=np.array([1,1,1,1,0,0,0])\n",
    "def move_zero_end(x):\n",
    "    count_0=0\n",
    "    store_1=0\n",
    "    for i in x:\n",
    "        if i==1:\n",
    "            store_1+=1\n",
    "        else:\n",
    "            count_0+=1\n",
    "    result =([1]+store_1)+([0]+count_0)\n",
    "    return result\n",
    "print(\"output:\",move_zero_end(x))"
   ]
  },
  {
   "cell_type": "code",
   "execution_count": 4,
   "id": "f810531c-6d4a-4d27-8f20-0f9f09341ccc",
   "metadata": {},
   "outputs": [
    {
     "name": "stdout",
     "output_type": "stream",
     "text": [
      "output: [1, 1, 1, 1, 1, 0, 0, 0]\n"
     ]
    }
   ],
   "source": [
    "# Move all Zeros to End\n",
    "import numpy as np\n",
    "x = np.array([0, 1, 0, 1, 0, 1, 1, 1])\n",
    "def Move_Zero_end(x):\n",
    "    Count_0 = 0\n",
    "    Store_1 = 0\n",
    "    i = len(x)-1\n",
    "    while i >= 0:\n",
    "        if x[i] == 1:\n",
    "            Store_1 += 1\n",
    "        else:\n",
    "            Count_0 += 1\n",
    "        i -= 1\n",
    "    result = [1] * Store_1 + [0] * Count_0\n",
    "    return result\n",
    "print(\"output:\", Move_Zero_end(x))"
   ]
  },
  {
   "cell_type": "code",
   "execution_count": 20,
   "id": "7b6299fb-1c36-4c8b-9ea3-67e7a12a89ae",
   "metadata": {},
   "outputs": [
    {
     "name": "stdout",
     "output_type": "stream",
     "text": [
      " Common Elements :  [4 5 6]\n"
     ]
    }
   ],
   "source": [
    "# Binary Array Sorting\n",
    "import numpy as np\n",
    "x = np.array([1,2,3,4,5,6])\n",
    "y= np.array([4,5,6,7,8])\n",
    "def arr_common(x,y):\n",
    "    common=[]\n",
    "    for i in x:\n",
    "        if i in y and i not in common:\n",
    "            common.append(i)\n",
    "    return np.array(common)\n",
    "print(\" Common Elements : \",arr_common(x,y))    \n"
   ]
  },
  {
   "cell_type": "code",
   "execution_count": null,
   "id": "c61ba25e-401f-4bf5-9bf2-f872f7b04b8b",
   "metadata": {},
   "outputs": [],
   "source": [
    "# Factorial"
   ]
  },
  {
   "cell_type": "code",
   "execution_count": null,
   "id": "17f08e54-c5c6-4fcb-893c-7598d5f56476",
   "metadata": {},
   "outputs": [],
   "source": [
    "# Recursion"
   ]
  },
  {
   "cell_type": "code",
   "execution_count": 5,
   "id": "ea0efd9e-6f4d-49ac-9759-bbaea24b6d91",
   "metadata": {},
   "outputs": [
    {
     "data": {
      "text/plain": [
       "2"
      ]
     },
     "execution_count": 5,
     "metadata": {},
     "output_type": "execute_result"
    }
   ],
   "source": [
    "def factorial(n):\n",
    "    if n==1:\n",
    "        return 1\n",
    "    else:\n",
    "        return n*factorial(n-1)\n",
    "factorial(2)        "
   ]
  },
  {
   "cell_type": "code",
   "execution_count": null,
   "id": "f4176806-c7f5-4059-bb4b-8cdbdc3279b7",
   "metadata": {},
   "outputs": [],
   "source": [
    "# Iteration"
   ]
  },
  {
   "cell_type": "code",
   "execution_count": 7,
   "id": "dc38fc83-a3fe-41f8-82b1-8b2d54703522",
   "metadata": {},
   "outputs": [
    {
     "data": {
      "text/plain": [
       "362880"
      ]
     },
     "execution_count": 7,
     "metadata": {},
     "output_type": "execute_result"
    }
   ],
   "source": [
    "def factoiral(n):\n",
    "    result=1\n",
    "    for i in range(1,n+1):\n",
    "        result*=i\n",
    "        return result\n",
    "factorial(9)        "
   ]
  },
  {
   "cell_type": "code",
   "execution_count": 1,
   "id": "1bd2a911-4564-49c3-af7a-e44036a739cc",
   "metadata": {},
   "outputs": [],
   "source": [
    "# Positive indexing"
   ]
  },
  {
   "cell_type": "code",
   "execution_count": 15,
   "id": "662bcc23-00f4-4af4-8662-92dc58408e43",
   "metadata": {},
   "outputs": [
    {
     "name": "stdin",
     "output_type": "stream",
     "text": [
      " Enter the Target Number  10\n"
     ]
    },
    {
     "name": "stdout",
     "output_type": "stream",
     "text": [
      "5\n"
     ]
    }
   ],
   "source": [
    "import numpy as np\n",
    "x=np.array([11,15,26,38,9,10])\n",
    "target = int(input(\" Enter the Target Number \"))\n",
    "def positive_index(x,target):\n",
    "    n=len(x)\n",
    "    for i in range(n):\n",
    "        if x[i] == target:\n",
    "            print(i)\n",
    "positive_index(x,target)            "
   ]
  },
  {
   "cell_type": "code",
   "execution_count": null,
   "id": "1080566e-0cd9-412b-8a4e-1ad075ccdd54",
   "metadata": {},
   "outputs": [],
   "source": []
  }
 ],
 "metadata": {
  "kernelspec": {
   "display_name": "Python 3 (ipykernel)",
   "language": "python",
   "name": "python3"
  },
  "language_info": {
   "codemirror_mode": {
    "name": "ipython",
    "version": 3
   },
   "file_extension": ".py",
   "mimetype": "text/x-python",
   "name": "python",
   "nbconvert_exporter": "python",
   "pygments_lexer": "ipython3",
   "version": "3.12.4"
  }
 },
 "nbformat": 4,
 "nbformat_minor": 5
}
