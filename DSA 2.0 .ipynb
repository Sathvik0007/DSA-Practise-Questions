{
 "cells": [
  {
   "cell_type": "code",
   "execution_count": 5,
   "id": "22f50810-8f2e-43e7-95f3-5266c1d1dac4",
   "metadata": {},
   "outputs": [
    {
     "name": "stdout",
     "output_type": "stream",
     "text": [
      "Name: Amar\n",
      "ID: 123\n",
      "Age: 34\n"
     ]
    }
   ],
   "source": [
    "class Employee:\n",
    "    def __init__(self, name, emp_id, age):\n",
    "        self.name = name\n",
    "        self.emp_id = emp_id  # Changed variable name from 'id' to 'emp_id'\n",
    "        self.age = age\n",
    "\n",
    "    def display(self):\n",
    "        print(\"Name:\", self.name)\n",
    "        print(\"ID:\", self.emp_id)\n",
    "        print(\"Age:\", self.age)\n",
    "\n",
    "# Creating an object and passing parameters correctly\n",
    "e1 = Employee(\"Amar\", 123, 34)\n",
    "e1.display()\n"
   ]
  },
  {
   "cell_type": "code",
   "execution_count": 19,
   "id": "d7e05271-814b-4607-97de-117a86c4259b",
   "metadata": {},
   "outputs": [
    {
     "name": "stdout",
     "output_type": "stream",
     "text": [
      "Colour: Black\n",
      "Weight: 13\n"
     ]
    }
   ],
   "source": [
    "class Dog:\n",
    "    def dog(self,colour,weight):\n",
    "        self.Colour=colour\n",
    "        self.Weight=weight\n",
    "    def display(self):\n",
    "        print(\"Colour:\",self.Colour)\n",
    "        print(\"Weight:\",self.Weight)\n",
    "d1=Dog()\n",
    "d1.dog(\"Black\",13)\n",
    "d1.display()"
   ]
  },
  {
   "cell_type": "code",
   "execution_count": 3,
   "id": "5fd25dda-f069-48ba-ad4c-513f06e8aab6",
   "metadata": {},
   "outputs": [
    {
     "name": "stdout",
     "output_type": "stream",
     "text": [
      "Dog 1: Weight = 10 kg, Color = Brown\n",
      "Dog 2: Weight = 15 kg, Color = Black\n",
      "Dog 3: Weight = 12 kg, Color = White\n",
      "Total number of dogs: 3\n"
     ]
    }
   ],
   "source": [
    "class PetAnimals:\n",
    "    total_dogs = 0\n",
    "    def __init__(self, name, weight, color):\n",
    "        self.name = name\n",
    "        self.weight = weight\n",
    "        self.color = color\n",
    "        PetAnimals.total_dogs += 1\n",
    "\n",
    "    def display_info(self):\n",
    "        print(f\"{self.name}: Weight = {self.weight} kg, Color = {self.color}\")\n",
    "\n",
    "    @classmethod\n",
    "    def display_total_dogs(cls):\n",
    "        print(f\"Total number of dogs: {cls.total_dogs}\")\n",
    "\n",
    "dog1 = PetAnimals(\"Dog 1\", 10, \"Brown\")\n",
    "dog2 = PetAnimals(\"Dog 2\", 15, \"Black\")\n",
    "dog3 = PetAnimals(\"Dog 3\", 12, \"White\")\n",
    "\n",
    "dog1.display_info()\n",
    "dog2.display_info()\n",
    "dog3.display_info()\n",
    "\n",
    "PetAnimals.display_total_dogs()"
   ]
  },
  {
   "cell_type": "code",
   "execution_count": 7,
   "id": "99ffb466-4aac-4947-90ec-f4aa3a9a063b",
   "metadata": {},
   "outputs": [
    {
     "name": "stdout",
     "output_type": "stream",
     "text": [
      "Total number of pet animals: 2\n",
      "2\n"
     ]
    }
   ],
   "source": [
    "class Pet_animal:\n",
    "    count = 0  # Class variable to count instances\n",
    "\n",
    "    def __init__(self, n=' ', w=0 , c=' '):\n",
    "        # Object initialization method\n",
    "        self.name = n\n",
    "        self.weight = w\n",
    "        self.color = c\n",
    "        Pet_animal.count += 1  # Increment count when an object is created\n",
    "\n",
    "    def display(self):\n",
    "        print(\"Total number of pet animals:\", Pet_animal.count)\n",
    "\n",
    "\n",
    "# Creating instances\n",
    "p1 = Pet_animal(\"Dipin\", 25, \"white\")\n",
    "p2 = Pet_animal(\"Amar\", 30, \"brown\")\n",
    "\n",
    "# Displaying count using an instance\n",
    "p1.display()  \n",
    "\n",
    "# Printing count using class reference\n",
    "print(Pet_animal.count)\n"
   ]
  },
  {
   "cell_type": "code",
   "execution_count": 33,
   "id": "a6c5942a-bf22-4ee0-abec-7f17c4ea20e9",
   "metadata": {},
   "outputs": [
    {
     "name": "stdout",
     "output_type": "stream",
     "text": [
      "\n",
      "Pet Name: xxxxx\n",
      "Color: white\n",
      "Weight: 25\n",
      "Total number of pet animals: 2\n",
      "\n",
      "Pet Name: yyyyy\n",
      "Color: brown\n",
      "Weight: 30\n",
      "Total number of pet animals: 2\n",
      "Total pet animals: 2\n"
     ]
    }
   ],
   "source": [
    "class Pet_animal:\n",
    "    count = 0  # Class variable to count instances\n",
    "\n",
    "    def __init__(self, n, w, c):\n",
    "        # Object initialization method\n",
    "        self.name = n\n",
    "        self.weight = w\n",
    "        self.color = c\n",
    "        Pet_animal.count += 1  # Increment count when an object is created\n",
    "\n",
    "    def display(self):\n",
    "        print(\"\\nPet Name:\", self.name)\n",
    "        print(\"Color:\", self.color)\n",
    "        print(\"Weight:\", self.weight)\n",
    "        print(\"Total number of pet animals:\", Pet_animal.count)\n",
    "\n",
    "\n",
    "# Creating instances\n",
    "p1 = Pet_animal(\"xxxxx\", 25, \"white\")\n",
    "p2 = Pet_animal(\"yyyyy\", 30, \"brown\")\n",
    "\n",
    "# Displaying details of each pet\n",
    "p1.display()\n",
    "p2.display()\n",
    "\n",
    "# Printing total count using class reference\n",
    "print(\"Total pet animals:\", Pet_animal.count)\n"
   ]
  },
  {
   "cell_type": "code",
   "execution_count": null,
   "id": "8265c368-d454-48ac-afd1-746ebe773952",
   "metadata": {},
   "outputs": [],
   "source": []
  }
 ],
 "metadata": {
  "kernelspec": {
   "display_name": "Python 3 (ipykernel)",
   "language": "python",
   "name": "python3"
  },
  "language_info": {
   "codemirror_mode": {
    "name": "ipython",
    "version": 3
   },
   "file_extension": ".py",
   "mimetype": "text/x-python",
   "name": "python",
   "nbconvert_exporter": "python",
   "pygments_lexer": "ipython3",
   "version": "3.12.4"
  }
 },
 "nbformat": 4,
 "nbformat_minor": 5
}
