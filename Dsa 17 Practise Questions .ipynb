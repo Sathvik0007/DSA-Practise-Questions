{
 "cells": [
  {
   "cell_type": "code",
   "execution_count": 47,
   "id": "9f08d8ac-6613-44b2-a7ac-c1a3a7521fd8",
   "metadata": {},
   "outputs": [
    {
     "name": "stdout",
     "output_type": "stream",
     "text": [
      "Move disk 1 from rod A to rod B\n",
      "Move disk 2 from rod A to rod C\n",
      "Move disk 1 from rod B to rod C\n"
     ]
    }
   ],
   "source": [
    "''' Problem 1: Tower of Hanoi\n",
    "The Tower of Hanoi is a classic problem in computer science and mathematics.\n",
    "The problem consists of three rods and a number of disks of different sizes, \n",
    "which can slide onto any rod. The puzzle starts with the disks in a neat stack in ascending order of size on one rod,\n",
    "the smallest at the top, thus making a conical shape.\n",
    "\n",
    "The objective of the puzzle is to move the entire stack to another rod, obeying the following simple rules:\n",
    "\n",
    "1.⁠ ⁠Only one disk can be moved at a time.\n",
    "2.⁠ ⁠Each move consists of taking the upper disk from one of the stacks and placing it on top of another stack or on an empty rod.\n",
    "3.⁠ ⁠No disk may be placed on top of a smaller disk.\n",
    "\n",
    "Here is a Python solution using recursion:'''\n",
    "\n",
    "\n",
    "def tower_of_hanoi(n, from_rod, to_rod, aux_rod):\n",
    "    if n == 1:\n",
    "        print(f\"Move disk 1 from rod {from_rod} to rod {to_rod}\")\n",
    "        return\n",
    "    tower_of_hanoi(n - 1, from_rod, aux_rod, to_rod)\n",
    "    print(f\"Move disk {n} from rod {from_rod} to rod {to_rod}\")\n",
    "    tower_of_hanoi(n - 1, aux_rod, to_rod, from_rod)\n",
    "\n",
    "n = 2\n",
    "tower_of_hanoi(n, 'A', 'C', 'B')\n",
    "\n"
   ]
  },
  {
   "cell_type": "code",
   "execution_count": 5,
   "id": "c7846276-68b7-447b-a733-02d2e374f0db",
   "metadata": {},
   "outputs": [
    {
     "name": "stdout",
     "output_type": "stream",
     "text": [
      "Sum of digits: 15\n"
     ]
    }
   ],
   "source": [
    "# Problem 2: Sum of Digits\n",
    "# Here is a Python solution using recursion:\n",
    "def sum_of_digits(n):\n",
    "    if n == 0:\n",
    "        return 0\n",
    "    else:\n",
    "        return n % 10 + sum_of_digits(n // 10)\n",
    "\n",
    "num = 12345\n",
    "print(\"Sum of digits:\", sum_of_digits(num))\n",
    "\n"
   ]
  },
  {
   "cell_type": "code",
   "execution_count": 7,
   "id": "68dd47d8-9cd1-401f-89bd-86f9574a8c23",
   "metadata": {},
   "outputs": [
    {
     "name": "stdout",
     "output_type": "stream",
     "text": [
      "GCD: 6\n"
     ]
    }
   ],
   "source": [
    "# Problem 3: GCD Calculation\n",
    "# Here is a Python solution using recursion:\n",
    "def gcd(a, b):\n",
    "    if b == 0:\n",
    "        return a\n",
    "    else:\n",
    "        return gcd(b, a % b)\n",
    "\n",
    "num1 = 48\n",
    "num2 = 18\n",
    "print(\"GCD:\", gcd(num1, num2))\n",
    "\n"
   ]
  },
  {
   "cell_type": "code",
   "execution_count": null,
   "id": "88184fdf-030c-406d-8161-f890474aea98",
   "metadata": {},
   "outputs": [],
   "source": [
    "# Problem 4: Fibonacci Series\n",
    "# Here is a Python solution using mutual recursion:\n",
    "def fibonacci(n):\n",
    "    if n < 1:\n",
    "        return -1\n",
    "    elif n == 1:\n",
    "        return 0\n",
    "    elif n == 2:\n",
    "        return 1\n",
    "    else:\n",
    "        return fibonacci(n - 1) + fibonacci(n - 2)\n",
    "\n",
    "def print_fibonacci(n):\n",
    "    for i in range(1, n + 1):\n",
    "        print(fibonacci(i), end=\" \")\n",
    "\n",
    "n = 10\n",
    "print_fibonacci(n)"
   ]
  },
  {
   "cell_type": "code",
   "execution_count": 9,
   "id": "c4e40c7b-2611-4ec2-83fe-01e4685d24b4",
   "metadata": {},
   "outputs": [
    {
     "name": "stdout",
     "output_type": "stream",
     "text": [
      "Binary representation: 1010\n"
     ]
    }
   ],
   "source": [
    "# Problem 5: Decimal to Binary\n",
    "# Here is a Python solution using recursion:\n",
    "\n",
    "\n",
    "def decimal_to_binary(n):\n",
    "    if n == 0:\n",
    "        return \"0\"\n",
    "    elif n == 1:\n",
    "        return \"1\"\n",
    "    else:\n",
    "        if n % 2 == 0:\n",
    "            return decimal_to_binary(n // 2) + \"0\"\n",
    "        else:\n",
    "            return decimal_to_binary(n // 2) + \"1\"\n",
    "\n",
    "num = 10\n",
    "print(\"Binary representation:\", decimal_to_binary(num))\n",
    "\n"
   ]
  },
  {
   "cell_type": "code",
   "execution_count": 11,
   "id": "34db0ec4-ce30-4ec6-a679-bb3cb9c83b6f",
   "metadata": {},
   "outputs": [
    {
     "name": "stdout",
     "output_type": "stream",
     "text": [
      "Number of zeroes: 3\n"
     ]
    }
   ],
   "source": [
    "# Problem 6: Count Zeroes\n",
    "# Here is a Python solution using recursion:\n",
    "\n",
    "\n",
    "def count_zeroes(n):\n",
    "    if n == 0:\n",
    "        return 1\n",
    "    elif n < 10:\n",
    "        return 0\n",
    "    else:\n",
    "        if n % 10 == 0:\n",
    "            return 1 + count_zeroes(n // 10)\n",
    "        else:\n",
    "            return count_zeroes(n // 10)\n",
    "\n",
    "num = 10010\n",
    "print(\"Number of zeroes:\", count_zeroes(num))\n",
    "\n"
   ]
  },
  {
   "cell_type": "code",
   "execution_count": 13,
   "id": "22f48a47-a94b-411e-832c-de8de316cdc5",
   "metadata": {},
   "outputs": [
    {
     "name": "stdout",
     "output_type": "stream",
     "text": [
      "Sum of natural numbers: 55\n"
     ]
    }
   ],
   "source": [
    "# Problem 7: Sum of Natural Numbers\n",
    "# Here is a Python solution using recursion:\n",
    "\n",
    "\n",
    "def sum_of_natural_numbers(n):\n",
    "    if n == 1:\n",
    "        return 1\n",
    "    else:\n",
    "        return n + sum_of_natural_numbers(n - 1)\n",
    "\n",
    "n = 10\n",
    "print(\"Sum of natural numbers:\", sum_of_natural_numbers(n))\n",
    "\n",
    "\n"
   ]
  },
  {
   "cell_type": "code",
   "execution_count": 15,
   "id": "cc29ce1a-3c84-4738-9042-f06c7029b851",
   "metadata": {},
   "outputs": [
    {
     "name": "stdout",
     "output_type": "stream",
     "text": [
      "Number of digits: 5\n"
     ]
    }
   ],
   "source": [
    "# Problem 8: Count Digits\n",
    "# Here is a Python solution using recursion:\n",
    "\n",
    "\n",
    "def count_digits(n):\n",
    "    if n < 10:\n",
    "        return 1\n",
    "    else:\n",
    "        return 1 + count_digits(n // 10)\n",
    "\n",
    "num = 12345\n",
    "print(\"Number of digits:\", count_digits(num))\n",
    "\n"
   ]
  },
  {
   "cell_type": "code",
   "execution_count": 23,
   "id": "83dbc37a-4548-4838-bddd-0c294ef4635f",
   "metadata": {},
   "outputs": [
    {
     "name": "stdout",
     "output_type": "stream",
     "text": [
      "5\n",
      "0\n"
     ]
    }
   ],
   "source": [
    "# Problem 9: Count Odd Digits\n",
    "# Here is a Python solution using recursion:\n",
    "def count_odd_digits(n):\n",
    "    if n < 10:\n",
    "        if n % 2 != 0:\n",
    "            return 1\n",
    "        else:\n",
    "            return 0\n",
    "    else:\n",
    "        if n % 10 % 2:\n",
    "            return 1 + count_odd_digits(n // 10)  # Fix: Add recursive call\n",
    "        else:\n",
    "            return count_odd_digits(n // 10)  # Fix: Ensure recursion continues\n",
    "\n",
    "# Example usage:\n",
    "print(count_odd_digits(13579))  # Output: 5\n",
    "print(count_odd_digits(24680))  # Output: 0\n"
   ]
  },
  {
   "cell_type": "code",
   "execution_count": 27,
   "id": "1ca07d2c-50bf-495f-9f44-9a64f52529d5",
   "metadata": {},
   "outputs": [
    {
     "name": "stdout",
     "output_type": "stream",
     "text": [
      "Length of the string: 13\n"
     ]
    }
   ],
   "source": [
    "# 10) Write a recursive function to find the length of the string\n",
    "def string_length(s):\n",
    "    # Base case: if the string is empty, return 0\n",
    "    if s == \"\":\n",
    "        return 0\n",
    "    # Recursive case: remove the first character and add 1 to the count\n",
    "    return 1 + string_length(s[1:])\n",
    "\n",
    "# Example usage\n",
    "s = \"Hello, world!\"\n",
    "print(\"Length of the string:\", string_length(s))\n"
   ]
  },
  {
   "cell_type": "code",
   "execution_count": 31,
   "id": "76d846c6-6472-46e3-988b-045a0182f486",
   "metadata": {},
   "outputs": [
    {
     "name": "stdout",
     "output_type": "stream",
     "text": [
      "Number of digits in the string: 4\n"
     ]
    }
   ],
   "source": [
    "# 11) Write a recursive function to count the number of digits in the string\n",
    "def count_digits(s):\n",
    "    \"\"\"\n",
    "    This function counts the number of digits in a string using recursion.\n",
    "    \n",
    "    Parameters:\n",
    "    s (str): The input string.\n",
    "    \n",
    "    Returns:\n",
    "    int: The number of digits in the string.\n",
    "    \"\"\"\n",
    "    # Base case: if the string is empty, return 0\n",
    "    if s == \"\":\n",
    "        return 0\n",
    "    \n",
    "    # Check if the first character is a digit\n",
    "    if s[0].isdigit():\n",
    "        return 1 + count_digits(s[1:])  # Add 1 and check the rest of the string\n",
    "    else:\n",
    "        return count_digits(s[1:])  # Skip non-digit characters\n",
    "\n",
    "# Example usage\n",
    "s = \"Hello1234\"\n",
    "print(\"Number of digits in the string:\", count_digits(s))\n"
   ]
  },
  {
   "cell_type": "code",
   "execution_count": 35,
   "id": "8a969e46-35ae-4a7f-b72f-23ffe99d8856",
   "metadata": {},
   "outputs": [
    {
     "name": "stdout",
     "output_type": "stream",
     "text": [
      "Reversed string: kivhtaS\n"
     ]
    }
   ],
   "source": [
    "# 12) Write a recursive function to print a string in reverse order\n",
    "def reverse_string(s):\n",
    "    \"\"\"\n",
    "    This function prints a string in reverse order using recursion.\n",
    "    \n",
    "    Parameters:\n",
    "    s (str): The input string.\n",
    "    \n",
    "    Returns:\n",
    "    str: The reversed string.\n",
    "    \"\"\"\n",
    "    # Base case: if the string is empty, return an empty string\n",
    "    if s == \"\":\n",
    "        return \"\"\n",
    "    \n",
    "    # Recursive case: take the last character and add the reversed rest of the string\n",
    "    return s[-1] + reverse_string(s[:-1])\n",
    "\n",
    "# Example usage\n",
    "s = \"Sathvik\"\n",
    "print(\"Reversed string:\", reverse_string(s))\n"
   ]
  },
  {
   "cell_type": "code",
   "execution_count": 43,
   "id": "eb7eb27e-c428-465e-bb77-faefd40a7913",
   "metadata": {},
   "outputs": [
    {
     "name": "stdout",
     "output_type": "stream",
     "text": [
      "Number of vowels in the string: 2\n"
     ]
    }
   ],
   "source": [
    "# 13) Write a recursive function to count number of vowels in string\n",
    "def count_vowels(s):\n",
    "    \"\"\"\n",
    "    This function counts the number of vowels in a string using recursion.\n",
    "    \n",
    "    Parameters:\n",
    "    s (str): The input string.\n",
    "    \n",
    "    Returns:\n",
    "    int: The number of vowels in the string.\n",
    "    \"\"\"\n",
    "    vowels = \"aeiouAEIOU\"\n",
    "    \n",
    "    # Base case: if the string is empty, return 0\n",
    "    if s == \"\":\n",
    "        return 0\n",
    "    \n",
    "    # Check if the first character is a vowel\n",
    "    if s[0] in vowels:\n",
    "        return 1 + count_vowels(s[1:])  # Add 1 and check the rest of the string\n",
    "    else:\n",
    "        return count_vowels(s[1:])  # Skip non-vowel characters\n",
    "\n",
    "# Example usage\n",
    "s = \"Sathvik\"\n",
    "print(\"Number of vowels in the string:\", count_vowels(s))\n"
   ]
  },
  {
   "cell_type": "code",
   "execution_count": 1,
   "id": "29210bfb-6984-40a9-81a2-762952e9f382",
   "metadata": {},
   "outputs": [
    {
     "name": "stdin",
     "output_type": "stream",
     "text": [
      "Enter any number:  5\n"
     ]
    },
    {
     "name": "stdout",
     "output_type": "stream",
     "text": [
      "Factorial output: 120\n"
     ]
    }
   ],
   "source": [
    "# 14) Problem\n",
    "def factorial(num):\n",
    "    if num == 0:\n",
    "        return 1\n",
    "    else:\n",
    "        return num*factorial(num-1)\n",
    "n = int(input(\"Enter any number: \"))\n",
    "fact = factorial(n)\n",
    "print(\"Factorial output:\",fact)"
   ]
  },
  {
   "cell_type": "code",
   "execution_count": 3,
   "id": "b2247b7b-f54a-4336-99cc-6d88b9b253f4",
   "metadata": {},
   "outputs": [
    {
     "name": "stdin",
     "output_type": "stream",
     "text": [
      "Enter any number: 5\n",
      "Enter exponent: 5\n"
     ]
    },
    {
     "name": "stdout",
     "output_type": "stream",
     "text": [
      "Result: 3125\n"
     ]
    }
   ],
   "source": [
    "# 15) Problem\n",
    "def power(a,b):\n",
    "    if b == 0:\n",
    "        return 1\n",
    "    else:\n",
    "        return a*power(a,b-1)\n",
    "num = int(input(\"Enter any number:\"))\n",
    "exp = int(input(\"Enter exponent:\"))\n",
    "result = power(num,exp)\n",
    "print(\"Result:\",result)"
   ]
  },
  {
   "cell_type": "code",
   "execution_count": 5,
   "id": "2ea7f958-f541-44a7-b5dd-3bd128c98cca",
   "metadata": {},
   "outputs": [
    {
     "name": "stdout",
     "output_type": "stream",
     "text": [
      "Fibonacci number at position 5 is 3\n"
     ]
    }
   ],
   "source": [
    "# 16) Problem\n",
    "def fibonacci(n):\n",
    "# Base case\n",
    "    if n < 1:\n",
    "        return -1\n",
    "    elif n==1:\n",
    "        return 0\n",
    "    elif n==2:\n",
    "        return 1\n",
    "# Recursive case (binary recursion)\n",
    "    else:\n",
    "        return fibonacci(n-1) + fibonacci(n-2)\n",
    "# Example usage\n",
    "n = 5 # Change this value to test other positions\n",
    "print(f\"Fibonacci number at position {n} is {fibonacci(n)}\")"
   ]
  },
  {
   "cell_type": "code",
   "execution_count": 7,
   "id": "b8f8ec2f-3336-4e80-891d-a28018ea087e",
   "metadata": {},
   "outputs": [
    {
     "name": "stdout",
     "output_type": "stream",
     "text": [
      "The number is odd\n"
     ]
    }
   ],
   "source": [
    "# 17) Problem\n",
    "def iseven(n):\n",
    "# Base case for even number\n",
    "    if n == 0:\n",
    "        return True\n",
    "# Base case for odd number\n",
    "    elif n == 1:\n",
    "        return False\n",
    "# Recursive case\n",
    "    elif n > 1:\n",
    "        return isodd(n - 1)\n",
    "# Handle negative numbers\n",
    "    elif n < 0:\n",
    "        return iseven(-n)\n",
    "def isodd(n):\n",
    "    return not iseven(n)\n",
    "# Input from the user\n",
    "num = -5\n",
    "if iseven(num):\n",
    "    print(\"The number is even\")\n",
    "else:\n",
    "    print(\"The number is odd\")"
   ]
  },
  {
   "cell_type": "code",
   "execution_count": null,
   "id": "ecbe4ff0-ae9b-4ad5-a42f-88bffe0330b1",
   "metadata": {},
   "outputs": [],
   "source": []
  }
 ],
 "metadata": {
  "kernelspec": {
   "display_name": "Python 3 (ipykernel)",
   "language": "python",
   "name": "python3"
  },
  "language_info": {
   "codemirror_mode": {
    "name": "ipython",
    "version": 3
   },
   "file_extension": ".py",
   "mimetype": "text/x-python",
   "name": "python",
   "nbconvert_exporter": "python",
   "pygments_lexer": "ipython3",
   "version": "3.12.4"
  }
 },
 "nbformat": 4,
 "nbformat_minor": 5
}
