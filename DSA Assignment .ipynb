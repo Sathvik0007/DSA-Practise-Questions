{
 "cells": [
  {
   "cell_type": "code",
   "execution_count": 2,
   "id": "dec7e31c-1045-422d-9afd-d57d61d31038",
   "metadata": {},
   "outputs": [
    {
     "name": "stdin",
     "output_type": "stream",
     "text": [
      "Enter the number of rows: 3\n",
      "Enter the numberof columns 3\n",
      "enter element at position(1,1): 2\n"
     ]
    },
    {
     "name": "stdout",
     "output_type": "stream",
     "text": [
      "2 "
     ]
    },
    {
     "name": "stdin",
     "output_type": "stream",
     "text": [
      "enter element at position(1,2): 1\n"
     ]
    },
    {
     "name": "stdout",
     "output_type": "stream",
     "text": [
      "1 "
     ]
    },
    {
     "name": "stdin",
     "output_type": "stream",
     "text": [
      "enter element at position(1,3): 3\n"
     ]
    },
    {
     "name": "stdout",
     "output_type": "stream",
     "text": [
      "3 \n"
     ]
    },
    {
     "name": "stdin",
     "output_type": "stream",
     "text": [
      "enter element at position(2,1): 1\n"
     ]
    },
    {
     "name": "stdout",
     "output_type": "stream",
     "text": [
      "1 "
     ]
    },
    {
     "name": "stdin",
     "output_type": "stream",
     "text": [
      "enter element at position(2,2): 1\n"
     ]
    },
    {
     "name": "stdout",
     "output_type": "stream",
     "text": [
      "1 "
     ]
    },
    {
     "name": "stdin",
     "output_type": "stream",
     "text": [
      "enter element at position(2,3): 1\n"
     ]
    },
    {
     "name": "stdout",
     "output_type": "stream",
     "text": [
      "1 \n"
     ]
    },
    {
     "name": "stdin",
     "output_type": "stream",
     "text": [
      "enter element at position(3,1): 1\n"
     ]
    },
    {
     "name": "stdout",
     "output_type": "stream",
     "text": [
      "1 "
     ]
    },
    {
     "name": "stdin",
     "output_type": "stream",
     "text": [
      "enter element at position(3,2): 1\n"
     ]
    },
    {
     "name": "stdout",
     "output_type": "stream",
     "text": [
      "1 "
     ]
    },
    {
     "name": "stdin",
     "output_type": "stream",
     "text": [
      "enter element at position(3,3): 1\n"
     ]
    },
    {
     "name": "stdout",
     "output_type": "stream",
     "text": [
      "1 \n",
      "the sum of all elements in the martix is: 12\n"
     ]
    }
   ],
   "source": [
    "# WRITE A PROGRAM TO ADD ALL THE ELEMENTS IN THE MARTIX:\n",
    "m=int(input(\"Enter the number of rows:\"))\n",
    "n=int(input(\"Enter the numberof columns\"))\n",
    "sum=0\n",
    "for i in range (m):\n",
    "    for j in range(n):\n",
    "        element = int(input(f\"enter element at position({i+1},{j+1}):\"))\n",
    "        print(element,end=\" \")\n",
    "        sum += element\n",
    "    print()\n",
    "print(\"the sum of all elements in the martix is:\",sum)"
   ]
  },
  {
   "cell_type": "code",
   "execution_count": 4,
   "id": "387a39ae-46d8-4981-960f-3912d5a75510",
   "metadata": {},
   "outputs": [
    {
     "name": "stdout",
     "output_type": "stream",
     "text": [
      "sum of row1:6\n",
      "sum of row2:15\n",
      "sum of row3:24\n"
     ]
    }
   ],
   "source": [
    "# write a program to add all elements in each row  of the martix:\n",
    "matrix=[\n",
    "    [1,2,3],\n",
    "    [4,5,6],\n",
    "    [7,8,9]\n",
    "]\n",
    "for i in range(len(matrix)):\n",
    "    row_sum=0\n",
    "    for j in range(len(matrix[i])):\n",
    "        row_sum+=matrix[i][j]\n",
    "    print(f\"sum of row{i+1}:{row_sum}\")"
   ]
  },
  {
   "cell_type": "code",
   "execution_count": 6,
   "id": "4248c8ea-07b0-4878-9881-89f39195e206",
   "metadata": {},
   "outputs": [
    {
     "name": "stdout",
     "output_type": "stream",
     "text": [
      "sum of column1:12\n",
      "sum of column2:15\n",
      "sum of column3:18\n"
     ]
    }
   ],
   "source": [
    "# write a program to add all elements in column of the martix :\n",
    "matrix=[\n",
    "    [1,2,3],\n",
    "    [4,5,6],\n",
    "    [7,8,9]\n",
    "]\n",
    "num_columns=len(matrix[0])\n",
    "for j in range(num_columns):\n",
    "    column_sum=0\n",
    "    for i in range(len(matrix)):\n",
    "        column_sum+= matrix[i][j]\n",
    "    print(f\"sum of column{j+1}:{column_sum}\")"
   ]
  },
  {
   "cell_type": "code",
   "execution_count": null,
   "id": "8b1c10e8-7f23-4183-8add-698c53526390",
   "metadata": {},
   "outputs": [],
   "source": []
  }
 ],
 "metadata": {
  "kernelspec": {
   "display_name": "Python 3 (ipykernel)",
   "language": "python",
   "name": "python3"
  },
  "language_info": {
   "codemirror_mode": {
    "name": "ipython",
    "version": 3
   },
   "file_extension": ".py",
   "mimetype": "text/x-python",
   "name": "python",
   "nbconvert_exporter": "python",
   "pygments_lexer": "ipython3",
   "version": "3.12.4"
  }
 },
 "nbformat": 4,
 "nbformat_minor": 5
}
